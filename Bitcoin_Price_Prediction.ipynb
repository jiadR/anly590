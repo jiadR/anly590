{
  "nbformat": 4,
  "nbformat_minor": 0,
  "metadata": {
    "colab": {
      "name": "Bitcoin_Price_Prediction.ipynb",
      "provenance": []
    },
    "kernelspec": {
      "name": "python3",
      "display_name": "Python 3"
    },
    "accelerator": "GPU"
  },
  "cells": [
    {
      "cell_type": "markdown",
      "metadata": {
        "id": "0QM4MJHQ67Y0"
      },
      "source": [
        "# **Data Gathering**"
      ]
    },
    {
      "cell_type": "code",
      "metadata": {
        "id": "yWglHxwI7M4G"
      },
      "source": [
        "!pip install cryptocmd"
      ],
      "execution_count": null,
      "outputs": []
    },
    {
      "cell_type": "code",
      "metadata": {
        "id": "izAESq367C5j"
      },
      "source": [
        "\n",
        "from cryptocmd import CmcScraper\n",
        "\n",
        "# initialise scraper without time interval\n",
        "scraper = CmcScraper(\"BTC\")\n",
        "\n",
        "# get raw data as list of list\n",
        "headers, data = scraper.get_data()\n",
        "\n",
        "# get data in a json format\n",
        "xrp_json_data = scraper.get_data(\"json\")\n",
        "\n",
        "# export the data as csv file, you can also pass optional `name` parameter\n",
        "scraper.export(\"csv\", name=\"btc_all_time\")\n",
        "\n",
        "# Pandas dataFrame for the same data\n",
        "df = scraper.get_dataframe()\n",
        "\n",
        "df.to_csv(index=False)"
      ],
      "execution_count": null,
      "outputs": []
    },
    {
      "cell_type": "code",
      "metadata": {
        "colab": {
          "base_uri": "https://localhost:8080/",
          "height": 419
        },
        "id": "EZzZXZUx7UnT",
        "outputId": "99509fbc-adfe-41ea-d378-06c070998307"
      },
      "source": [
        "\n",
        "import pandas as pd\n",
        "btc = pd.read_csv('btc_all_time.csv')\n",
        "btc.columns = ['date','open', 'high','low','close','volume','amount']\n",
        "btc['date'] = pd.to_datetime(btc['date'], dayfirst=True)\n",
        "\n",
        "btc.sort_values(by=['date'])"
      ],
      "execution_count": null,
      "outputs": [
        {
          "output_type": "execute_result",
          "data": {
            "text/html": [
              "<div>\n",
              "<style scoped>\n",
              "    .dataframe tbody tr th:only-of-type {\n",
              "        vertical-align: middle;\n",
              "    }\n",
              "\n",
              "    .dataframe tbody tr th {\n",
              "        vertical-align: top;\n",
              "    }\n",
              "\n",
              "    .dataframe thead th {\n",
              "        text-align: right;\n",
              "    }\n",
              "</style>\n",
              "<table border=\"1\" class=\"dataframe\">\n",
              "  <thead>\n",
              "    <tr style=\"text-align: right;\">\n",
              "      <th></th>\n",
              "      <th>date</th>\n",
              "      <th>open</th>\n",
              "      <th>high</th>\n",
              "      <th>low</th>\n",
              "      <th>close</th>\n",
              "      <th>volume</th>\n",
              "      <th>amount</th>\n",
              "    </tr>\n",
              "  </thead>\n",
              "  <tbody>\n",
              "    <tr>\n",
              "      <th>2786</th>\n",
              "      <td>2013-04-28</td>\n",
              "      <td>135.300003</td>\n",
              "      <td>135.979996</td>\n",
              "      <td>132.100006</td>\n",
              "      <td>134.210007</td>\n",
              "      <td>0.000000e+00</td>\n",
              "      <td>1.488567e+09</td>\n",
              "    </tr>\n",
              "    <tr>\n",
              "      <th>2785</th>\n",
              "      <td>2013-04-29</td>\n",
              "      <td>134.444000</td>\n",
              "      <td>147.488007</td>\n",
              "      <td>134.000000</td>\n",
              "      <td>144.539993</td>\n",
              "      <td>0.000000e+00</td>\n",
              "      <td>1.603769e+09</td>\n",
              "    </tr>\n",
              "    <tr>\n",
              "      <th>2784</th>\n",
              "      <td>2013-04-30</td>\n",
              "      <td>144.000000</td>\n",
              "      <td>146.929993</td>\n",
              "      <td>134.050003</td>\n",
              "      <td>139.000000</td>\n",
              "      <td>0.000000e+00</td>\n",
              "      <td>1.542813e+09</td>\n",
              "    </tr>\n",
              "    <tr>\n",
              "      <th>2783</th>\n",
              "      <td>2013-05-01</td>\n",
              "      <td>139.000000</td>\n",
              "      <td>139.889999</td>\n",
              "      <td>107.720001</td>\n",
              "      <td>116.989998</td>\n",
              "      <td>0.000000e+00</td>\n",
              "      <td>1.298955e+09</td>\n",
              "    </tr>\n",
              "    <tr>\n",
              "      <th>2782</th>\n",
              "      <td>2013-05-02</td>\n",
              "      <td>116.379997</td>\n",
              "      <td>125.599998</td>\n",
              "      <td>92.281898</td>\n",
              "      <td>105.209999</td>\n",
              "      <td>0.000000e+00</td>\n",
              "      <td>1.168517e+09</td>\n",
              "    </tr>\n",
              "    <tr>\n",
              "      <th>...</th>\n",
              "      <td>...</td>\n",
              "      <td>...</td>\n",
              "      <td>...</td>\n",
              "      <td>...</td>\n",
              "      <td>...</td>\n",
              "      <td>...</td>\n",
              "      <td>...</td>\n",
              "    </tr>\n",
              "    <tr>\n",
              "      <th>4</th>\n",
              "      <td>2020-12-09</td>\n",
              "      <td>18320.884784</td>\n",
              "      <td>18626.292652</td>\n",
              "      <td>17935.547820</td>\n",
              "      <td>18553.915377</td>\n",
              "      <td>3.442037e+10</td>\n",
              "      <td>3.444865e+11</td>\n",
              "    </tr>\n",
              "    <tr>\n",
              "      <th>3</th>\n",
              "      <td>2020-12-10</td>\n",
              "      <td>18553.299728</td>\n",
              "      <td>18553.299728</td>\n",
              "      <td>17957.065213</td>\n",
              "      <td>18264.992107</td>\n",
              "      <td>2.554713e+10</td>\n",
              "      <td>3.391369e+11</td>\n",
              "    </tr>\n",
              "    <tr>\n",
              "      <th>2</th>\n",
              "      <td>2020-12-11</td>\n",
              "      <td>18263.929255</td>\n",
              "      <td>18268.452845</td>\n",
              "      <td>17619.532389</td>\n",
              "      <td>18058.903347</td>\n",
              "      <td>2.791964e+10</td>\n",
              "      <td>3.353262e+11</td>\n",
              "    </tr>\n",
              "    <tr>\n",
              "      <th>1</th>\n",
              "      <td>2020-12-12</td>\n",
              "      <td>18051.319990</td>\n",
              "      <td>18919.551228</td>\n",
              "      <td>18046.040724</td>\n",
              "      <td>18803.656870</td>\n",
              "      <td>2.175258e+10</td>\n",
              "      <td>3.491706e+11</td>\n",
              "    </tr>\n",
              "    <tr>\n",
              "      <th>0</th>\n",
              "      <td>2020-12-13</td>\n",
              "      <td>18806.766479</td>\n",
              "      <td>19381.535773</td>\n",
              "      <td>18734.332888</td>\n",
              "      <td>19142.382534</td>\n",
              "      <td>2.545047e+10</td>\n",
              "      <td>3.554792e+11</td>\n",
              "    </tr>\n",
              "  </tbody>\n",
              "</table>\n",
              "<p>2787 rows × 7 columns</p>\n",
              "</div>"
            ],
            "text/plain": [
              "           date          open  ...        volume        amount\n",
              "2786 2013-04-28    135.300003  ...  0.000000e+00  1.488567e+09\n",
              "2785 2013-04-29    134.444000  ...  0.000000e+00  1.603769e+09\n",
              "2784 2013-04-30    144.000000  ...  0.000000e+00  1.542813e+09\n",
              "2783 2013-05-01    139.000000  ...  0.000000e+00  1.298955e+09\n",
              "2782 2013-05-02    116.379997  ...  0.000000e+00  1.168517e+09\n",
              "...         ...           ...  ...           ...           ...\n",
              "4    2020-12-09  18320.884784  ...  3.442037e+10  3.444865e+11\n",
              "3    2020-12-10  18553.299728  ...  2.554713e+10  3.391369e+11\n",
              "2    2020-12-11  18263.929255  ...  2.791964e+10  3.353262e+11\n",
              "1    2020-12-12  18051.319990  ...  2.175258e+10  3.491706e+11\n",
              "0    2020-12-13  18806.766479  ...  2.545047e+10  3.554792e+11\n",
              "\n",
              "[2787 rows x 7 columns]"
            ]
          },
          "metadata": {
            "tags": []
          },
          "execution_count": 3
        }
      ]
    },
    {
      "cell_type": "code",
      "metadata": {
        "colab": {
          "base_uri": "https://localhost:8080/",
          "height": 204
        },
        "id": "2tFrqTnTGTxB",
        "outputId": "a641ebac-23a0-4d03-adf1-ec0ca496b398"
      },
      "source": [
        "import numpy as np\n",
        "\n",
        "#m1 = btc.date <= '2020-12-04'\n",
        "btc = btc[btc.date <= '2020-12-04']\n",
        "btc.head()"
      ],
      "execution_count": null,
      "outputs": [
        {
          "output_type": "execute_result",
          "data": {
            "text/html": [
              "<div>\n",
              "<style scoped>\n",
              "    .dataframe tbody tr th:only-of-type {\n",
              "        vertical-align: middle;\n",
              "    }\n",
              "\n",
              "    .dataframe tbody tr th {\n",
              "        vertical-align: top;\n",
              "    }\n",
              "\n",
              "    .dataframe thead th {\n",
              "        text-align: right;\n",
              "    }\n",
              "</style>\n",
              "<table border=\"1\" class=\"dataframe\">\n",
              "  <thead>\n",
              "    <tr style=\"text-align: right;\">\n",
              "      <th></th>\n",
              "      <th>date</th>\n",
              "      <th>open</th>\n",
              "      <th>high</th>\n",
              "      <th>low</th>\n",
              "      <th>close</th>\n",
              "      <th>volume</th>\n",
              "      <th>amount</th>\n",
              "    </tr>\n",
              "  </thead>\n",
              "  <tbody>\n",
              "    <tr>\n",
              "      <th>9</th>\n",
              "      <td>2020-12-04</td>\n",
              "      <td>19446.966422</td>\n",
              "      <td>19511.404714</td>\n",
              "      <td>18697.192914</td>\n",
              "      <td>18699.765613</td>\n",
              "      <td>3.387239e+10</td>\n",
              "      <td>3.471114e+11</td>\n",
              "    </tr>\n",
              "    <tr>\n",
              "      <th>10</th>\n",
              "      <td>2020-12-03</td>\n",
              "      <td>19205.925404</td>\n",
              "      <td>19566.191884</td>\n",
              "      <td>18925.784434</td>\n",
              "      <td>19445.398480</td>\n",
              "      <td>3.193032e+10</td>\n",
              "      <td>3.609339e+11</td>\n",
              "    </tr>\n",
              "    <tr>\n",
              "      <th>11</th>\n",
              "      <td>2020-12-02</td>\n",
              "      <td>18801.743593</td>\n",
              "      <td>19308.330663</td>\n",
              "      <td>18347.717838</td>\n",
              "      <td>19201.091157</td>\n",
              "      <td>3.738770e+10</td>\n",
              "      <td>3.563810e+11</td>\n",
              "    </tr>\n",
              "    <tr>\n",
              "      <th>12</th>\n",
              "      <td>2020-12-01</td>\n",
              "      <td>19633.770447</td>\n",
              "      <td>19845.975483</td>\n",
              "      <td>18321.920930</td>\n",
              "      <td>18802.998300</td>\n",
              "      <td>4.963366e+10</td>\n",
              "      <td>3.489766e+11</td>\n",
              "    </tr>\n",
              "    <tr>\n",
              "      <th>13</th>\n",
              "      <td>2020-11-30</td>\n",
              "      <td>18178.322118</td>\n",
              "      <td>19749.263694</td>\n",
              "      <td>18178.322118</td>\n",
              "      <td>19625.835029</td>\n",
              "      <td>4.772848e+10</td>\n",
              "      <td>3.642297e+11</td>\n",
              "    </tr>\n",
              "  </tbody>\n",
              "</table>\n",
              "</div>"
            ],
            "text/plain": [
              "         date          open  ...        volume        amount\n",
              "9  2020-12-04  19446.966422  ...  3.387239e+10  3.471114e+11\n",
              "10 2020-12-03  19205.925404  ...  3.193032e+10  3.609339e+11\n",
              "11 2020-12-02  18801.743593  ...  3.738770e+10  3.563810e+11\n",
              "12 2020-12-01  19633.770447  ...  4.963366e+10  3.489766e+11\n",
              "13 2020-11-30  18178.322118  ...  4.772848e+10  3.642297e+11\n",
              "\n",
              "[5 rows x 7 columns]"
            ]
          },
          "metadata": {
            "tags": []
          },
          "execution_count": 4
        }
      ]
    },
    {
      "cell_type": "code",
      "metadata": {
        "id": "6LL4SvH28eur"
      },
      "source": [
        "nasdaq = pd.read_csv('^IXIC.csv')\n",
        "nasdaq = nasdaq.drop(columns=['Adj Close'])\n",
        "nasdaq.columns = ['date','nas_open','nas_high','nas_low','nas_close','nas_volume']\n",
        "nasdaq['date'] = pd.to_datetime(nasdaq['date'])"
      ],
      "execution_count": null,
      "outputs": []
    },
    {
      "cell_type": "code",
      "metadata": {
        "colab": {
          "base_uri": "https://localhost:8080/",
          "height": 204
        },
        "id": "ggY792H9GbYC",
        "outputId": "d0685d86-aa87-474b-ac94-41e3d2b2d05f"
      },
      "source": [
        "nasdaq.tail()"
      ],
      "execution_count": null,
      "outputs": [
        {
          "output_type": "execute_result",
          "data": {
            "text/html": [
              "<div>\n",
              "<style scoped>\n",
              "    .dataframe tbody tr th:only-of-type {\n",
              "        vertical-align: middle;\n",
              "    }\n",
              "\n",
              "    .dataframe tbody tr th {\n",
              "        vertical-align: top;\n",
              "    }\n",
              "\n",
              "    .dataframe thead th {\n",
              "        text-align: right;\n",
              "    }\n",
              "</style>\n",
              "<table border=\"1\" class=\"dataframe\">\n",
              "  <thead>\n",
              "    <tr style=\"text-align: right;\">\n",
              "      <th></th>\n",
              "      <th>date</th>\n",
              "      <th>nas_open</th>\n",
              "      <th>nas_high</th>\n",
              "      <th>nas_low</th>\n",
              "      <th>nas_close</th>\n",
              "      <th>nas_volume</th>\n",
              "    </tr>\n",
              "  </thead>\n",
              "  <tbody>\n",
              "    <tr>\n",
              "      <th>1912</th>\n",
              "      <td>2020-11-30</td>\n",
              "      <td>12224.250000</td>\n",
              "      <td>12244.650391</td>\n",
              "      <td>12027.160156</td>\n",
              "      <td>12198.740234</td>\n",
              "      <td>7693430000</td>\n",
              "    </tr>\n",
              "    <tr>\n",
              "      <th>1913</th>\n",
              "      <td>2020-12-01</td>\n",
              "      <td>12313.360352</td>\n",
              "      <td>12405.790039</td>\n",
              "      <td>12263.929688</td>\n",
              "      <td>12355.110352</td>\n",
              "      <td>6467180000</td>\n",
              "    </tr>\n",
              "    <tr>\n",
              "      <th>1914</th>\n",
              "      <td>2020-12-02</td>\n",
              "      <td>12285.750000</td>\n",
              "      <td>12360.059570</td>\n",
              "      <td>12217.349609</td>\n",
              "      <td>12349.370117</td>\n",
              "      <td>5150820000</td>\n",
              "    </tr>\n",
              "    <tr>\n",
              "      <th>1915</th>\n",
              "      <td>2020-12-03</td>\n",
              "      <td>12369.259766</td>\n",
              "      <td>12439.019531</td>\n",
              "      <td>12356.990234</td>\n",
              "      <td>12377.179688</td>\n",
              "      <td>5182100000</td>\n",
              "    </tr>\n",
              "    <tr>\n",
              "      <th>1916</th>\n",
              "      <td>2020-12-04</td>\n",
              "      <td>12399.320313</td>\n",
              "      <td>12464.230469</td>\n",
              "      <td>12376.440430</td>\n",
              "      <td>12464.230469</td>\n",
              "      <td>5044210000</td>\n",
              "    </tr>\n",
              "  </tbody>\n",
              "</table>\n",
              "</div>"
            ],
            "text/plain": [
              "           date      nas_open  ...     nas_close  nas_volume\n",
              "1912 2020-11-30  12224.250000  ...  12198.740234  7693430000\n",
              "1913 2020-12-01  12313.360352  ...  12355.110352  6467180000\n",
              "1914 2020-12-02  12285.750000  ...  12349.370117  5150820000\n",
              "1915 2020-12-03  12369.259766  ...  12377.179688  5182100000\n",
              "1916 2020-12-04  12399.320313  ...  12464.230469  5044210000\n",
              "\n",
              "[5 rows x 6 columns]"
            ]
          },
          "metadata": {
            "tags": []
          },
          "execution_count": 54
        }
      ]
    },
    {
      "cell_type": "code",
      "metadata": {
        "id": "Bl-OnqYq8nzf"
      },
      "source": [
        "volatility = pd.read_csv('^VIX.csv')\n",
        "volatility = volatility.drop(columns =['Adj Close', 'Volume']) \n",
        "#nasdaq = nasdaq.drop(columns=['Adj Close','Volume'])\n",
        "volatility.columns = ['date','vol_open','vol_high','vol_low','vol_close']\n",
        "volatility['date'] = pd.to_datetime(volatility['date'])"
      ],
      "execution_count": null,
      "outputs": []
    },
    {
      "cell_type": "code",
      "metadata": {
        "colab": {
          "base_uri": "https://localhost:8080/",
          "height": 204
        },
        "id": "XzifiZOKIuZm",
        "outputId": "3b19a3f2-4612-4631-f0f8-6faf6b8b482c"
      },
      "source": [
        "volatility.tail()"
      ],
      "execution_count": null,
      "outputs": [
        {
          "output_type": "execute_result",
          "data": {
            "text/html": [
              "<div>\n",
              "<style scoped>\n",
              "    .dataframe tbody tr th:only-of-type {\n",
              "        vertical-align: middle;\n",
              "    }\n",
              "\n",
              "    .dataframe tbody tr th {\n",
              "        vertical-align: top;\n",
              "    }\n",
              "\n",
              "    .dataframe thead th {\n",
              "        text-align: right;\n",
              "    }\n",
              "</style>\n",
              "<table border=\"1\" class=\"dataframe\">\n",
              "  <thead>\n",
              "    <tr style=\"text-align: right;\">\n",
              "      <th></th>\n",
              "      <th>date</th>\n",
              "      <th>vol_open</th>\n",
              "      <th>vol_high</th>\n",
              "      <th>vol_low</th>\n",
              "      <th>vol_close</th>\n",
              "    </tr>\n",
              "  </thead>\n",
              "  <tbody>\n",
              "    <tr>\n",
              "      <th>1912</th>\n",
              "      <td>2020-11-30</td>\n",
              "      <td>22.639999</td>\n",
              "      <td>22.889999</td>\n",
              "      <td>20.480000</td>\n",
              "      <td>20.570000</td>\n",
              "    </tr>\n",
              "    <tr>\n",
              "      <th>1913</th>\n",
              "      <td>2020-12-01</td>\n",
              "      <td>20.209999</td>\n",
              "      <td>20.920000</td>\n",
              "      <td>20.000000</td>\n",
              "      <td>20.770000</td>\n",
              "    </tr>\n",
              "    <tr>\n",
              "      <th>1914</th>\n",
              "      <td>2020-12-02</td>\n",
              "      <td>21.000000</td>\n",
              "      <td>21.250000</td>\n",
              "      <td>20.040001</td>\n",
              "      <td>21.170000</td>\n",
              "    </tr>\n",
              "    <tr>\n",
              "      <th>1915</th>\n",
              "      <td>2020-12-03</td>\n",
              "      <td>21.240000</td>\n",
              "      <td>21.879999</td>\n",
              "      <td>20.719999</td>\n",
              "      <td>21.280001</td>\n",
              "    </tr>\n",
              "    <tr>\n",
              "      <th>1916</th>\n",
              "      <td>2020-12-04</td>\n",
              "      <td>21.049999</td>\n",
              "      <td>21.150000</td>\n",
              "      <td>19.969999</td>\n",
              "      <td>20.790001</td>\n",
              "    </tr>\n",
              "  </tbody>\n",
              "</table>\n",
              "</div>"
            ],
            "text/plain": [
              "           date   vol_open   vol_high    vol_low  vol_close\n",
              "1912 2020-11-30  22.639999  22.889999  20.480000  20.570000\n",
              "1913 2020-12-01  20.209999  20.920000  20.000000  20.770000\n",
              "1914 2020-12-02  21.000000  21.250000  20.040001  21.170000\n",
              "1915 2020-12-03  21.240000  21.879999  20.719999  21.280001\n",
              "1916 2020-12-04  21.049999  21.150000  19.969999  20.790001"
            ]
          },
          "metadata": {
            "tags": []
          },
          "execution_count": 9
        }
      ]
    },
    {
      "cell_type": "code",
      "metadata": {
        "id": "tEjwbm02-Ayu"
      },
      "source": [
        "data = pd.merge(btc, nasdaq,\n",
        "how='left', on='date')"
      ],
      "execution_count": null,
      "outputs": []
    },
    {
      "cell_type": "code",
      "metadata": {
        "id": "AoNwyvsN-LH0"
      },
      "source": [
        "data = pd.merge(data, volatility,\n",
        "how='left', on='date')"
      ],
      "execution_count": null,
      "outputs": []
    },
    {
      "cell_type": "code",
      "metadata": {
        "id": "uzSvjWOJ-PBY"
      },
      "source": [
        "data.set_index(('date'),inplace = True) \n",
        "\n"
      ],
      "execution_count": null,
      "outputs": []
    },
    {
      "cell_type": "code",
      "metadata": {
        "colab": {
          "base_uri": "https://localhost:8080/",
          "height": 340
        },
        "id": "oE1jucncIOMq",
        "outputId": "4ba96adb-d693-498d-c053-9e8773525d38"
      },
      "source": [
        "data.tail()"
      ],
      "execution_count": null,
      "outputs": [
        {
          "output_type": "execute_result",
          "data": {
            "text/html": [
              "<div>\n",
              "<style scoped>\n",
              "    .dataframe tbody tr th:only-of-type {\n",
              "        vertical-align: middle;\n",
              "    }\n",
              "\n",
              "    .dataframe tbody tr th {\n",
              "        vertical-align: top;\n",
              "    }\n",
              "\n",
              "    .dataframe thead th {\n",
              "        text-align: right;\n",
              "    }\n",
              "</style>\n",
              "<table border=\"1\" class=\"dataframe\">\n",
              "  <thead>\n",
              "    <tr style=\"text-align: right;\">\n",
              "      <th></th>\n",
              "      <th>open</th>\n",
              "      <th>high</th>\n",
              "      <th>low</th>\n",
              "      <th>close</th>\n",
              "      <th>volume</th>\n",
              "      <th>amount</th>\n",
              "      <th>nas_open</th>\n",
              "      <th>nas_high</th>\n",
              "      <th>nas_low</th>\n",
              "      <th>nas_close</th>\n",
              "      <th>nas_volume</th>\n",
              "      <th>vol_open</th>\n",
              "      <th>vol_high</th>\n",
              "      <th>vol_low</th>\n",
              "      <th>vol_close</th>\n",
              "    </tr>\n",
              "    <tr>\n",
              "      <th>date</th>\n",
              "      <th></th>\n",
              "      <th></th>\n",
              "      <th></th>\n",
              "      <th></th>\n",
              "      <th></th>\n",
              "      <th></th>\n",
              "      <th></th>\n",
              "      <th></th>\n",
              "      <th></th>\n",
              "      <th></th>\n",
              "      <th></th>\n",
              "      <th></th>\n",
              "      <th></th>\n",
              "      <th></th>\n",
              "      <th></th>\n",
              "    </tr>\n",
              "  </thead>\n",
              "  <tbody>\n",
              "    <tr>\n",
              "      <th>2013-05-02</th>\n",
              "      <td>116.379997</td>\n",
              "      <td>125.599998</td>\n",
              "      <td>92.281898</td>\n",
              "      <td>105.209999</td>\n",
              "      <td>0.0</td>\n",
              "      <td>1.168517e+09</td>\n",
              "      <td>3306.149902</td>\n",
              "      <td>3344.899902</td>\n",
              "      <td>3305.810059</td>\n",
              "      <td>3340.620117</td>\n",
              "      <td>1.757480e+09</td>\n",
              "      <td>14.48</td>\n",
              "      <td>14.48</td>\n",
              "      <td>13.58</td>\n",
              "      <td>13.59</td>\n",
              "    </tr>\n",
              "    <tr>\n",
              "      <th>2013-05-01</th>\n",
              "      <td>139.000000</td>\n",
              "      <td>139.889999</td>\n",
              "      <td>107.720001</td>\n",
              "      <td>116.989998</td>\n",
              "      <td>0.0</td>\n",
              "      <td>1.298955e+09</td>\n",
              "      <td>3325.350098</td>\n",
              "      <td>3330.020020</td>\n",
              "      <td>3296.500000</td>\n",
              "      <td>3299.129883</td>\n",
              "      <td>1.884600e+09</td>\n",
              "      <td>13.88</td>\n",
              "      <td>14.67</td>\n",
              "      <td>13.87</td>\n",
              "      <td>14.49</td>\n",
              "    </tr>\n",
              "    <tr>\n",
              "      <th>2013-04-30</th>\n",
              "      <td>144.000000</td>\n",
              "      <td>146.929993</td>\n",
              "      <td>134.050003</td>\n",
              "      <td>139.000000</td>\n",
              "      <td>0.0</td>\n",
              "      <td>1.542813e+09</td>\n",
              "      <td>3308.050049</td>\n",
              "      <td>3328.790039</td>\n",
              "      <td>3298.580078</td>\n",
              "      <td>3328.790039</td>\n",
              "      <td>1.984270e+09</td>\n",
              "      <td>13.71</td>\n",
              "      <td>14.28</td>\n",
              "      <td>13.51</td>\n",
              "      <td>13.52</td>\n",
              "    </tr>\n",
              "    <tr>\n",
              "      <th>2013-04-29</th>\n",
              "      <td>134.444000</td>\n",
              "      <td>147.488007</td>\n",
              "      <td>134.000000</td>\n",
              "      <td>144.539993</td>\n",
              "      <td>0.0</td>\n",
              "      <td>1.603769e+09</td>\n",
              "      <td>3290.310059</td>\n",
              "      <td>3315.330078</td>\n",
              "      <td>3289.419922</td>\n",
              "      <td>3307.020020</td>\n",
              "      <td>1.594110e+09</td>\n",
              "      <td>13.72</td>\n",
              "      <td>13.94</td>\n",
              "      <td>13.36</td>\n",
              "      <td>13.71</td>\n",
              "    </tr>\n",
              "    <tr>\n",
              "      <th>2013-04-28</th>\n",
              "      <td>135.300003</td>\n",
              "      <td>135.979996</td>\n",
              "      <td>132.100006</td>\n",
              "      <td>134.210007</td>\n",
              "      <td>0.0</td>\n",
              "      <td>1.488567e+09</td>\n",
              "      <td>NaN</td>\n",
              "      <td>NaN</td>\n",
              "      <td>NaN</td>\n",
              "      <td>NaN</td>\n",
              "      <td>NaN</td>\n",
              "      <td>NaN</td>\n",
              "      <td>NaN</td>\n",
              "      <td>NaN</td>\n",
              "      <td>NaN</td>\n",
              "    </tr>\n",
              "  </tbody>\n",
              "</table>\n",
              "</div>"
            ],
            "text/plain": [
              "                  open        high         low  ...  vol_high  vol_low  vol_close\n",
              "date                                            ...                              \n",
              "2013-05-02  116.379997  125.599998   92.281898  ...     14.48    13.58      13.59\n",
              "2013-05-01  139.000000  139.889999  107.720001  ...     14.67    13.87      14.49\n",
              "2013-04-30  144.000000  146.929993  134.050003  ...     14.28    13.51      13.52\n",
              "2013-04-29  134.444000  147.488007  134.000000  ...     13.94    13.36      13.71\n",
              "2013-04-28  135.300003  135.979996  132.100006  ...       NaN      NaN        NaN\n",
              "\n",
              "[5 rows x 15 columns]"
            ]
          },
          "metadata": {
            "tags": []
          },
          "execution_count": 164
        }
      ]
    },
    {
      "cell_type": "code",
      "metadata": {
        "id": "fW9h1ISqE5G4"
      },
      "source": [
        "import numpy as np\n",
        "\n",
        "m1 = data.index > '2013-04-27'\n",
        "data = data[np.logical_and.reduce([m1])]"
      ],
      "execution_count": null,
      "outputs": []
    },
    {
      "cell_type": "code",
      "metadata": {
        "colab": {
          "base_uri": "https://localhost:8080/",
          "height": 340
        },
        "id": "6P7em7I2Fbks",
        "outputId": "111746aa-b9b8-403e-8a0b-1cc09cad8cb9"
      },
      "source": [
        "data.tail()"
      ],
      "execution_count": null,
      "outputs": [
        {
          "output_type": "execute_result",
          "data": {
            "text/html": [
              "<div>\n",
              "<style scoped>\n",
              "    .dataframe tbody tr th:only-of-type {\n",
              "        vertical-align: middle;\n",
              "    }\n",
              "\n",
              "    .dataframe tbody tr th {\n",
              "        vertical-align: top;\n",
              "    }\n",
              "\n",
              "    .dataframe thead th {\n",
              "        text-align: right;\n",
              "    }\n",
              "</style>\n",
              "<table border=\"1\" class=\"dataframe\">\n",
              "  <thead>\n",
              "    <tr style=\"text-align: right;\">\n",
              "      <th></th>\n",
              "      <th>open</th>\n",
              "      <th>close</th>\n",
              "      <th>high</th>\n",
              "      <th>low</th>\n",
              "      <th>volume</th>\n",
              "      <th>amount</th>\n",
              "      <th>nas_open</th>\n",
              "      <th>nas_high</th>\n",
              "      <th>nas_low</th>\n",
              "      <th>nas_close</th>\n",
              "      <th>nas_volume</th>\n",
              "      <th>vol_open</th>\n",
              "      <th>vol_high</th>\n",
              "      <th>vol_low</th>\n",
              "      <th>vol_close</th>\n",
              "    </tr>\n",
              "    <tr>\n",
              "      <th>date</th>\n",
              "      <th></th>\n",
              "      <th></th>\n",
              "      <th></th>\n",
              "      <th></th>\n",
              "      <th></th>\n",
              "      <th></th>\n",
              "      <th></th>\n",
              "      <th></th>\n",
              "      <th></th>\n",
              "      <th></th>\n",
              "      <th></th>\n",
              "      <th></th>\n",
              "      <th></th>\n",
              "      <th></th>\n",
              "      <th></th>\n",
              "    </tr>\n",
              "  </thead>\n",
              "  <tbody>\n",
              "    <tr>\n",
              "      <th>2013-05-02</th>\n",
              "      <td>116.379997</td>\n",
              "      <td>125.599998</td>\n",
              "      <td>92.281898</td>\n",
              "      <td>105.209999</td>\n",
              "      <td>0.0</td>\n",
              "      <td>1.168517e+09</td>\n",
              "      <td>3306.149902</td>\n",
              "      <td>3344.899902</td>\n",
              "      <td>3305.810059</td>\n",
              "      <td>3340.620117</td>\n",
              "      <td>1.757480e+09</td>\n",
              "      <td>14.48</td>\n",
              "      <td>14.48</td>\n",
              "      <td>13.58</td>\n",
              "      <td>13.59</td>\n",
              "    </tr>\n",
              "    <tr>\n",
              "      <th>2013-05-01</th>\n",
              "      <td>139.000000</td>\n",
              "      <td>139.889999</td>\n",
              "      <td>107.720001</td>\n",
              "      <td>116.989998</td>\n",
              "      <td>0.0</td>\n",
              "      <td>1.298955e+09</td>\n",
              "      <td>3325.350098</td>\n",
              "      <td>3330.020020</td>\n",
              "      <td>3296.500000</td>\n",
              "      <td>3299.129883</td>\n",
              "      <td>1.884600e+09</td>\n",
              "      <td>13.88</td>\n",
              "      <td>14.67</td>\n",
              "      <td>13.87</td>\n",
              "      <td>14.49</td>\n",
              "    </tr>\n",
              "    <tr>\n",
              "      <th>2013-04-30</th>\n",
              "      <td>144.000000</td>\n",
              "      <td>146.929993</td>\n",
              "      <td>134.050003</td>\n",
              "      <td>139.000000</td>\n",
              "      <td>0.0</td>\n",
              "      <td>1.542813e+09</td>\n",
              "      <td>3308.050049</td>\n",
              "      <td>3328.790039</td>\n",
              "      <td>3298.580078</td>\n",
              "      <td>3328.790039</td>\n",
              "      <td>1.984270e+09</td>\n",
              "      <td>13.71</td>\n",
              "      <td>14.28</td>\n",
              "      <td>13.51</td>\n",
              "      <td>13.52</td>\n",
              "    </tr>\n",
              "    <tr>\n",
              "      <th>2013-04-29</th>\n",
              "      <td>134.444000</td>\n",
              "      <td>147.488007</td>\n",
              "      <td>134.000000</td>\n",
              "      <td>144.539993</td>\n",
              "      <td>0.0</td>\n",
              "      <td>1.603769e+09</td>\n",
              "      <td>3290.310059</td>\n",
              "      <td>3315.330078</td>\n",
              "      <td>3289.419922</td>\n",
              "      <td>3307.020020</td>\n",
              "      <td>1.594110e+09</td>\n",
              "      <td>13.72</td>\n",
              "      <td>13.94</td>\n",
              "      <td>13.36</td>\n",
              "      <td>13.71</td>\n",
              "    </tr>\n",
              "    <tr>\n",
              "      <th>2013-04-28</th>\n",
              "      <td>135.300003</td>\n",
              "      <td>135.979996</td>\n",
              "      <td>132.100006</td>\n",
              "      <td>134.210007</td>\n",
              "      <td>0.0</td>\n",
              "      <td>1.488567e+09</td>\n",
              "      <td>NaN</td>\n",
              "      <td>NaN</td>\n",
              "      <td>NaN</td>\n",
              "      <td>NaN</td>\n",
              "      <td>NaN</td>\n",
              "      <td>NaN</td>\n",
              "      <td>NaN</td>\n",
              "      <td>NaN</td>\n",
              "      <td>NaN</td>\n",
              "    </tr>\n",
              "  </tbody>\n",
              "</table>\n",
              "</div>"
            ],
            "text/plain": [
              "                  open       close        high  ...  vol_high  vol_low  vol_close\n",
              "date                                            ...                              \n",
              "2013-05-02  116.379997  125.599998   92.281898  ...     14.48    13.58      13.59\n",
              "2013-05-01  139.000000  139.889999  107.720001  ...     14.67    13.87      14.49\n",
              "2013-04-30  144.000000  146.929993  134.050003  ...     14.28    13.51      13.52\n",
              "2013-04-29  134.444000  147.488007  134.000000  ...     13.94    13.36      13.71\n",
              "2013-04-28  135.300003  135.979996  132.100006  ...       NaN      NaN        NaN\n",
              "\n",
              "[5 rows x 15 columns]"
            ]
          },
          "metadata": {
            "tags": []
          },
          "execution_count": 113
        }
      ]
    },
    {
      "cell_type": "markdown",
      "metadata": {
        "id": "0iu4HJbn_9HL"
      },
      "source": [
        "# **Feature Engineering**"
      ]
    },
    {
      "cell_type": "markdown",
      "metadata": {
        "id": "jjqzkq1P-1Ic"
      },
      "source": [
        "Fill the NA value in Nasdaq and Volatility datasets with the average of neighbour data."
      ]
    },
    {
      "cell_type": "code",
      "metadata": {
        "id": "JX8ntoKR_hpT"
      },
      "source": [
        "data = pd.concat([data.ffill(), data.bfill()]).groupby(level=0).mean()\n"
      ],
      "execution_count": null,
      "outputs": []
    },
    {
      "cell_type": "code",
      "metadata": {
        "colab": {
          "base_uri": "https://localhost:8080/"
        },
        "id": "WG-tph4-GH7_",
        "outputId": "518306b3-f581-467b-f227-0a1e8697a5c0"
      },
      "source": [
        "data.head()"
      ],
      "execution_count": null,
      "outputs": [
        {
          "output_type": "execute_result",
          "data": {
            "text/html": [
              "<div>\n",
              "<style scoped>\n",
              "    .dataframe tbody tr th:only-of-type {\n",
              "        vertical-align: middle;\n",
              "    }\n",
              "\n",
              "    .dataframe tbody tr th {\n",
              "        vertical-align: top;\n",
              "    }\n",
              "\n",
              "    .dataframe thead th {\n",
              "        text-align: right;\n",
              "    }\n",
              "</style>\n",
              "<table border=\"1\" class=\"dataframe\">\n",
              "  <thead>\n",
              "    <tr style=\"text-align: right;\">\n",
              "      <th></th>\n",
              "      <th>open</th>\n",
              "      <th>high</th>\n",
              "      <th>low</th>\n",
              "      <th>close</th>\n",
              "      <th>volume</th>\n",
              "      <th>amount</th>\n",
              "      <th>nas_open</th>\n",
              "      <th>nas_high</th>\n",
              "      <th>nas_low</th>\n",
              "      <th>nas_close</th>\n",
              "      <th>nas_volume</th>\n",
              "      <th>vol_open</th>\n",
              "      <th>vol_high</th>\n",
              "      <th>vol_low</th>\n",
              "      <th>vol_close</th>\n",
              "    </tr>\n",
              "    <tr>\n",
              "      <th>date</th>\n",
              "      <th></th>\n",
              "      <th></th>\n",
              "      <th></th>\n",
              "      <th></th>\n",
              "      <th></th>\n",
              "      <th></th>\n",
              "      <th></th>\n",
              "      <th></th>\n",
              "      <th></th>\n",
              "      <th></th>\n",
              "      <th></th>\n",
              "      <th></th>\n",
              "      <th></th>\n",
              "      <th></th>\n",
              "      <th></th>\n",
              "    </tr>\n",
              "  </thead>\n",
              "  <tbody>\n",
              "    <tr>\n",
              "      <th>2013-04-28</th>\n",
              "      <td>135.300003</td>\n",
              "      <td>135.979996</td>\n",
              "      <td>132.100006</td>\n",
              "      <td>134.210007</td>\n",
              "      <td>0.0</td>\n",
              "      <td>1.488567e+09</td>\n",
              "      <td>3290.310059</td>\n",
              "      <td>3315.330078</td>\n",
              "      <td>3289.419922</td>\n",
              "      <td>3307.020020</td>\n",
              "      <td>1.594110e+09</td>\n",
              "      <td>13.72</td>\n",
              "      <td>13.94</td>\n",
              "      <td>13.36</td>\n",
              "      <td>13.71</td>\n",
              "    </tr>\n",
              "    <tr>\n",
              "      <th>2013-04-29</th>\n",
              "      <td>134.444000</td>\n",
              "      <td>147.488007</td>\n",
              "      <td>134.000000</td>\n",
              "      <td>144.539993</td>\n",
              "      <td>0.0</td>\n",
              "      <td>1.603769e+09</td>\n",
              "      <td>3290.310059</td>\n",
              "      <td>3315.330078</td>\n",
              "      <td>3289.419922</td>\n",
              "      <td>3307.020020</td>\n",
              "      <td>1.594110e+09</td>\n",
              "      <td>13.72</td>\n",
              "      <td>13.94</td>\n",
              "      <td>13.36</td>\n",
              "      <td>13.71</td>\n",
              "    </tr>\n",
              "    <tr>\n",
              "      <th>2013-04-30</th>\n",
              "      <td>144.000000</td>\n",
              "      <td>146.929993</td>\n",
              "      <td>134.050003</td>\n",
              "      <td>139.000000</td>\n",
              "      <td>0.0</td>\n",
              "      <td>1.542813e+09</td>\n",
              "      <td>3308.050049</td>\n",
              "      <td>3328.790039</td>\n",
              "      <td>3298.580078</td>\n",
              "      <td>3328.790039</td>\n",
              "      <td>1.984270e+09</td>\n",
              "      <td>13.71</td>\n",
              "      <td>14.28</td>\n",
              "      <td>13.51</td>\n",
              "      <td>13.52</td>\n",
              "    </tr>\n",
              "    <tr>\n",
              "      <th>2013-05-01</th>\n",
              "      <td>139.000000</td>\n",
              "      <td>139.889999</td>\n",
              "      <td>107.720001</td>\n",
              "      <td>116.989998</td>\n",
              "      <td>0.0</td>\n",
              "      <td>1.298955e+09</td>\n",
              "      <td>3325.350098</td>\n",
              "      <td>3330.020020</td>\n",
              "      <td>3296.500000</td>\n",
              "      <td>3299.129883</td>\n",
              "      <td>1.884600e+09</td>\n",
              "      <td>13.88</td>\n",
              "      <td>14.67</td>\n",
              "      <td>13.87</td>\n",
              "      <td>14.49</td>\n",
              "    </tr>\n",
              "    <tr>\n",
              "      <th>2013-05-02</th>\n",
              "      <td>116.379997</td>\n",
              "      <td>125.599998</td>\n",
              "      <td>92.281898</td>\n",
              "      <td>105.209999</td>\n",
              "      <td>0.0</td>\n",
              "      <td>1.168517e+09</td>\n",
              "      <td>3306.149902</td>\n",
              "      <td>3344.899902</td>\n",
              "      <td>3305.810059</td>\n",
              "      <td>3340.620117</td>\n",
              "      <td>1.757480e+09</td>\n",
              "      <td>14.48</td>\n",
              "      <td>14.48</td>\n",
              "      <td>13.58</td>\n",
              "      <td>13.59</td>\n",
              "    </tr>\n",
              "  </tbody>\n",
              "</table>\n",
              "</div>"
            ],
            "text/plain": [
              "                  open        high         low  ...  vol_high  vol_low  vol_close\n",
              "date                                            ...                              \n",
              "2013-04-28  135.300003  135.979996  132.100006  ...     13.94    13.36      13.71\n",
              "2013-04-29  134.444000  147.488007  134.000000  ...     13.94    13.36      13.71\n",
              "2013-04-30  144.000000  146.929993  134.050003  ...     14.28    13.51      13.52\n",
              "2013-05-01  139.000000  139.889999  107.720001  ...     14.67    13.87      14.49\n",
              "2013-05-02  116.379997  125.599998   92.281898  ...     14.48    13.58      13.59\n",
              "\n",
              "[5 rows x 15 columns]"
            ]
          },
          "metadata": {
            "tags": []
          },
          "execution_count": 14
        }
      ]
    },
    {
      "cell_type": "markdown",
      "metadata": {
        "id": "z1Wez67eABNL"
      },
      "source": [
        "Add more technical indicators"
      ]
    },
    {
      "cell_type": "code",
      "metadata": {
        "colab": {
          "base_uri": "https://localhost:8080/"
        },
        "id": "winWX00gAWII",
        "outputId": "c3e1446b-28a5-41e9-8399-7f895e4c83c7"
      },
      "source": [
        "!pip install stockstats\n",
        "#!pip install git+https://github.com/AI4Finance-LLC/FinRL-Library.git"
      ],
      "execution_count": null,
      "outputs": [
        {
          "output_type": "stream",
          "text": [
            "Collecting stockstats\n",
            "  Downloading https://files.pythonhosted.org/packages/32/41/d3828c5bc0a262cb3112a4024108a3b019c183fa3b3078bff34bf25abf91/stockstats-0.3.2-py2.py3-none-any.whl\n",
            "Requirement already satisfied: pandas>=0.18.1 in /usr/local/lib/python3.6/dist-packages (from stockstats) (1.1.5)\n",
            "Collecting int-date>=0.1.7\n",
            "  Downloading https://files.pythonhosted.org/packages/43/27/31803df15173ab341fe7548c14154b54227dfd8f630daa09a1c6e7db52f7/int_date-0.1.8-py2.py3-none-any.whl\n",
            "Requirement already satisfied: numpy>=1.9.2 in /usr/local/lib/python3.6/dist-packages (from stockstats) (1.18.5)\n",
            "Requirement already satisfied: python-dateutil>=2.7.3 in /usr/local/lib/python3.6/dist-packages (from pandas>=0.18.1->stockstats) (2.8.1)\n",
            "Requirement already satisfied: pytz>=2017.2 in /usr/local/lib/python3.6/dist-packages (from pandas>=0.18.1->stockstats) (2018.9)\n",
            "Requirement already satisfied: six>=1.9.0 in /usr/local/lib/python3.6/dist-packages (from int-date>=0.1.7->stockstats) (1.15.0)\n",
            "Installing collected packages: int-date, stockstats\n",
            "Successfully installed int-date-0.1.8 stockstats-0.3.2\n"
          ],
          "name": "stdout"
        }
      ]
    },
    {
      "cell_type": "code",
      "metadata": {
        "id": "KaZowHBvBcSA"
      },
      "source": [
        "import warnings\n",
        "warnings.filterwarnings('ignore')"
      ],
      "execution_count": null,
      "outputs": []
    },
    {
      "cell_type": "code",
      "metadata": {
        "id": "_zMQOH5jAEIV"
      },
      "source": [
        "import datetime\n",
        "# from finrl.config import config\n",
        "# from finrl.marketdata.yahoodownloader import YahooDownloader\n",
        "# from finrl.preprocessing.preprocessors import FeatureEngineer\n",
        "# from finrl.preprocessing.data import data_split\n",
        "# from finrl.env.environment import EnvSetup\n",
        "# from finrl.env.EnvMultipleStock_train import StockEnvTrain\n",
        "# from finrl.env.EnvMultipleStock_trade import StockEnvTrade\n",
        "# from finrl.model.models import DRLAgent\n",
        "# from finrl.trade.backtest import BackTestStats, BaselineStats, BackTestPlot\n",
        "import stockstats as Sdf\n",
        "tech_indicator_list = ['macd', 'rsi_30', 'cci_30', 'dx_30', 'kdjk', 'open_2_sma', 'boll', 'close_10.0_le_5_c', 'wr_10', 'dma', 'trix']\n",
        "\n"
      ],
      "execution_count": null,
      "outputs": []
    },
    {
      "cell_type": "code",
      "metadata": {
        "colab": {
          "base_uri": "https://localhost:8080/"
        },
        "id": "sB2VYQhLALfV",
        "outputId": "3d860ff9-a577-40a7-96d1-81e717a84242"
      },
      "source": [
        "stock = Sdf.StockDataFrame.retype(data)\n",
        "for i in tech_indicator_list:\n",
        "  indicator_df = pd.DataFrame()\n",
        "  indicator_df = stock.get(i)\n",
        "  data[i] = indicator_df\n",
        "\n",
        "\n",
        "data.head()"
      ],
      "execution_count": null,
      "outputs": [
        {
          "output_type": "execute_result",
          "data": {
            "text/html": [
              "<div>\n",
              "<style scoped>\n",
              "    .dataframe tbody tr th:only-of-type {\n",
              "        vertical-align: middle;\n",
              "    }\n",
              "\n",
              "    .dataframe tbody tr th {\n",
              "        vertical-align: top;\n",
              "    }\n",
              "\n",
              "    .dataframe thead th {\n",
              "        text-align: right;\n",
              "    }\n",
              "</style>\n",
              "<table border=\"1\" class=\"dataframe\">\n",
              "  <thead>\n",
              "    <tr style=\"text-align: right;\">\n",
              "      <th></th>\n",
              "      <th>open</th>\n",
              "      <th>high</th>\n",
              "      <th>low</th>\n",
              "      <th>close</th>\n",
              "      <th>volume</th>\n",
              "      <th>amount</th>\n",
              "      <th>nas_open</th>\n",
              "      <th>nas_high</th>\n",
              "      <th>nas_low</th>\n",
              "      <th>nas_close</th>\n",
              "      <th>nas_volume</th>\n",
              "      <th>vol_open</th>\n",
              "      <th>vol_high</th>\n",
              "      <th>vol_low</th>\n",
              "      <th>vol_close</th>\n",
              "      <th>close_12_ema</th>\n",
              "      <th>close_26_ema</th>\n",
              "      <th>macd</th>\n",
              "      <th>macd_9_ema</th>\n",
              "      <th>macds</th>\n",
              "      <th>macdh</th>\n",
              "      <th>rsi_30</th>\n",
              "      <th>cci_30</th>\n",
              "      <th>dx_30</th>\n",
              "      <th>kdjk</th>\n",
              "      <th>open_2_sma</th>\n",
              "      <th>boll</th>\n",
              "      <th>close_10.0_le_5_c</th>\n",
              "      <th>wr_10</th>\n",
              "      <th>dma</th>\n",
              "      <th>trix</th>\n",
              "    </tr>\n",
              "    <tr>\n",
              "      <th>date</th>\n",
              "      <th></th>\n",
              "      <th></th>\n",
              "      <th></th>\n",
              "      <th></th>\n",
              "      <th></th>\n",
              "      <th></th>\n",
              "      <th></th>\n",
              "      <th></th>\n",
              "      <th></th>\n",
              "      <th></th>\n",
              "      <th></th>\n",
              "      <th></th>\n",
              "      <th></th>\n",
              "      <th></th>\n",
              "      <th></th>\n",
              "      <th></th>\n",
              "      <th></th>\n",
              "      <th></th>\n",
              "      <th></th>\n",
              "      <th></th>\n",
              "      <th></th>\n",
              "      <th></th>\n",
              "      <th></th>\n",
              "      <th></th>\n",
              "      <th></th>\n",
              "      <th></th>\n",
              "      <th></th>\n",
              "      <th></th>\n",
              "      <th></th>\n",
              "      <th></th>\n",
              "      <th></th>\n",
              "    </tr>\n",
              "  </thead>\n",
              "  <tbody>\n",
              "    <tr>\n",
              "      <th>2013-04-28</th>\n",
              "      <td>135.300003</td>\n",
              "      <td>135.979996</td>\n",
              "      <td>132.100006</td>\n",
              "      <td>134.210007</td>\n",
              "      <td>0.0</td>\n",
              "      <td>1.488567e+09</td>\n",
              "      <td>3290.310059</td>\n",
              "      <td>3315.330078</td>\n",
              "      <td>3289.419922</td>\n",
              "      <td>3307.020020</td>\n",
              "      <td>1.594110e+09</td>\n",
              "      <td>13.72</td>\n",
              "      <td>13.94</td>\n",
              "      <td>13.36</td>\n",
              "      <td>13.71</td>\n",
              "      <td>134.210007</td>\n",
              "      <td>134.210007</td>\n",
              "      <td>0.000000</td>\n",
              "      <td>0.000000</td>\n",
              "      <td>0.000000</td>\n",
              "      <td>0.000000</td>\n",
              "      <td>NaN</td>\n",
              "      <td>NaN</td>\n",
              "      <td>NaN</td>\n",
              "      <td>51.460535</td>\n",
              "      <td>135.300003</td>\n",
              "      <td>134.210007</td>\n",
              "      <td>0.0</td>\n",
              "      <td>45.618396</td>\n",
              "      <td>0.0</td>\n",
              "      <td>NaN</td>\n",
              "    </tr>\n",
              "    <tr>\n",
              "      <th>2013-04-29</th>\n",
              "      <td>134.444000</td>\n",
              "      <td>147.488007</td>\n",
              "      <td>134.000000</td>\n",
              "      <td>144.539993</td>\n",
              "      <td>0.0</td>\n",
              "      <td>1.603769e+09</td>\n",
              "      <td>3290.310059</td>\n",
              "      <td>3315.330078</td>\n",
              "      <td>3289.419922</td>\n",
              "      <td>3307.020020</td>\n",
              "      <td>1.594110e+09</td>\n",
              "      <td>13.72</td>\n",
              "      <td>13.94</td>\n",
              "      <td>13.36</td>\n",
              "      <td>13.71</td>\n",
              "      <td>139.805416</td>\n",
              "      <td>139.573654</td>\n",
              "      <td>0.231763</td>\n",
              "      <td>0.128757</td>\n",
              "      <td>0.128757</td>\n",
              "      <td>0.103006</td>\n",
              "      <td>100.000000</td>\n",
              "      <td>66.666667</td>\n",
              "      <td>100.000000</td>\n",
              "      <td>61.254399</td>\n",
              "      <td>134.872002</td>\n",
              "      <td>139.375000</td>\n",
              "      <td>0.0</td>\n",
              "      <td>19.157871</td>\n",
              "      <td>0.0</td>\n",
              "      <td>1.223239</td>\n",
              "    </tr>\n",
              "    <tr>\n",
              "      <th>2013-04-30</th>\n",
              "      <td>144.000000</td>\n",
              "      <td>146.929993</td>\n",
              "      <td>134.050003</td>\n",
              "      <td>139.000000</td>\n",
              "      <td>0.0</td>\n",
              "      <td>1.542813e+09</td>\n",
              "      <td>3308.050049</td>\n",
              "      <td>3328.790039</td>\n",
              "      <td>3298.580078</td>\n",
              "      <td>3328.790039</td>\n",
              "      <td>1.984270e+09</td>\n",
              "      <td>13.71</td>\n",
              "      <td>14.28</td>\n",
              "      <td>13.51</td>\n",
              "      <td>13.52</td>\n",
              "      <td>139.491062</td>\n",
              "      <td>139.367545</td>\n",
              "      <td>0.123517</td>\n",
              "      <td>0.126609</td>\n",
              "      <td>0.126609</td>\n",
              "      <td>-0.003093</td>\n",
              "      <td>64.317150</td>\n",
              "      <td>28.101741</td>\n",
              "      <td>100.000000</td>\n",
              "      <td>55.782964</td>\n",
              "      <td>139.222000</td>\n",
              "      <td>139.250000</td>\n",
              "      <td>0.0</td>\n",
              "      <td>55.159906</td>\n",
              "      <td>0.0</td>\n",
              "      <td>0.651420</td>\n",
              "    </tr>\n",
              "    <tr>\n",
              "      <th>2013-05-01</th>\n",
              "      <td>139.000000</td>\n",
              "      <td>139.889999</td>\n",
              "      <td>107.720001</td>\n",
              "      <td>116.989998</td>\n",
              "      <td>0.0</td>\n",
              "      <td>1.298955e+09</td>\n",
              "      <td>3325.350098</td>\n",
              "      <td>3330.020020</td>\n",
              "      <td>3296.500000</td>\n",
              "      <td>3299.129883</td>\n",
              "      <td>1.884600e+09</td>\n",
              "      <td>13.88</td>\n",
              "      <td>14.67</td>\n",
              "      <td>13.87</td>\n",
              "      <td>14.49</td>\n",
              "      <td>132.388355</td>\n",
              "      <td>133.111761</td>\n",
              "      <td>-0.723406</td>\n",
              "      <td>-0.161336</td>\n",
              "      <td>-0.161336</td>\n",
              "      <td>-0.562069</td>\n",
              "      <td>26.075869</td>\n",
              "      <td>-130.183634</td>\n",
              "      <td>44.666333</td>\n",
              "      <td>44.958705</td>\n",
              "      <td>141.500000</td>\n",
              "      <td>133.684999</td>\n",
              "      <td>0.0</td>\n",
              "      <td>76.689812</td>\n",
              "      <td>0.0</td>\n",
              "      <td>-0.098469</td>\n",
              "    </tr>\n",
              "    <tr>\n",
              "      <th>2013-05-02</th>\n",
              "      <td>116.379997</td>\n",
              "      <td>125.599998</td>\n",
              "      <td>92.281898</td>\n",
              "      <td>105.209999</td>\n",
              "      <td>0.0</td>\n",
              "      <td>1.168517e+09</td>\n",
              "      <td>3306.149902</td>\n",
              "      <td>3344.899902</td>\n",
              "      <td>3305.810059</td>\n",
              "      <td>3340.620117</td>\n",
              "      <td>1.757480e+09</td>\n",
              "      <td>14.48</td>\n",
              "      <td>14.48</td>\n",
              "      <td>13.58</td>\n",
              "      <td>13.59</td>\n",
              "      <td>125.004093</td>\n",
              "      <td>126.641227</td>\n",
              "      <td>-1.637134</td>\n",
              "      <td>-0.600353</td>\n",
              "      <td>-0.600353</td>\n",
              "      <td>-1.036781</td>\n",
              "      <td>19.617781</td>\n",
              "      <td>-123.227755</td>\n",
              "      <td>61.927102</td>\n",
              "      <td>37.778431</td>\n",
              "      <td>127.689999</td>\n",
              "      <td>127.989999</td>\n",
              "      <td>0.0</td>\n",
              "      <td>76.582119</td>\n",
              "      <td>0.0</td>\n",
              "      <td>-0.669030</td>\n",
              "    </tr>\n",
              "  </tbody>\n",
              "</table>\n",
              "</div>"
            ],
            "text/plain": [
              "                  open        high         low  ...      wr_10  dma      trix\n",
              "date                                            ...                          \n",
              "2013-04-28  135.300003  135.979996  132.100006  ...  45.618396  0.0       NaN\n",
              "2013-04-29  134.444000  147.488007  134.000000  ...  19.157871  0.0  1.223239\n",
              "2013-04-30  144.000000  146.929993  134.050003  ...  55.159906  0.0  0.651420\n",
              "2013-05-01  139.000000  139.889999  107.720001  ...  76.689812  0.0 -0.098469\n",
              "2013-05-02  116.379997  125.599998   92.281898  ...  76.582119  0.0 -0.669030\n",
              "\n",
              "[5 rows x 31 columns]"
            ]
          },
          "metadata": {
            "tags": []
          },
          "execution_count": 18
        }
      ]
    },
    {
      "cell_type": "code",
      "metadata": {
        "id": "FSKbFzuoCsyL"
      },
      "source": [
        "\n",
        "data.to_csv('data.csv',index=True)"
      ],
      "execution_count": null,
      "outputs": []
    },
    {
      "cell_type": "markdown",
      "metadata": {
        "id": "gfAEPSE6YpdH"
      },
      "source": [
        "# **Traditional Trading Indicator VWAP Approach**"
      ]
    },
    {
      "cell_type": "code",
      "metadata": {
        "colab": {
          "base_uri": "https://localhost:8080/",
          "height": 340
        },
        "id": "rZohjzDbYvfE",
        "outputId": "de2c95a8-4d34-4b40-be9b-70e0df60b9ec"
      },
      "source": [
        "#df.assign(temp_f=lambda x: x.temp_c * 9 / 5 + 32)\n",
        "# def vwap(df):\n",
        "#     q = df.volume\n",
        "#     p = (df.close + df.open)/2\n",
        "#     return df.assign(vwap=(p * q) / q.shift(1))\n",
        "\n",
        "# data_vwap = data.groupby(data.index, group_keys=False).apply(vwap)\n",
        "# data_vwap.tail()"
      ],
      "execution_count": null,
      "outputs": [
        {
          "output_type": "execute_result",
          "data": {
            "text/html": [
              "<div>\n",
              "<style scoped>\n",
              "    .dataframe tbody tr th:only-of-type {\n",
              "        vertical-align: middle;\n",
              "    }\n",
              "\n",
              "    .dataframe tbody tr th {\n",
              "        vertical-align: top;\n",
              "    }\n",
              "\n",
              "    .dataframe thead th {\n",
              "        text-align: right;\n",
              "    }\n",
              "</style>\n",
              "<table border=\"1\" class=\"dataframe\">\n",
              "  <thead>\n",
              "    <tr style=\"text-align: right;\">\n",
              "      <th></th>\n",
              "      <th>open</th>\n",
              "      <th>high</th>\n",
              "      <th>low</th>\n",
              "      <th>close</th>\n",
              "      <th>volume</th>\n",
              "      <th>amount</th>\n",
              "      <th>nas_open</th>\n",
              "      <th>nas_high</th>\n",
              "      <th>nas_low</th>\n",
              "      <th>nas_close</th>\n",
              "      <th>nas_volume</th>\n",
              "      <th>vol_open</th>\n",
              "      <th>vol_high</th>\n",
              "      <th>vol_low</th>\n",
              "      <th>vol_close</th>\n",
              "      <th>close_12_ema</th>\n",
              "      <th>close_26_ema</th>\n",
              "      <th>macd</th>\n",
              "      <th>macd_9_ema</th>\n",
              "      <th>macds</th>\n",
              "      <th>macdh</th>\n",
              "      <th>rsi_30</th>\n",
              "      <th>cci_30</th>\n",
              "      <th>dx_30</th>\n",
              "      <th>kdjk</th>\n",
              "      <th>open_2_sma</th>\n",
              "      <th>boll</th>\n",
              "      <th>close_10.0_le_5_c</th>\n",
              "      <th>wr_10</th>\n",
              "      <th>dma</th>\n",
              "      <th>trix</th>\n",
              "      <th>vwap</th>\n",
              "    </tr>\n",
              "    <tr>\n",
              "      <th>date</th>\n",
              "      <th></th>\n",
              "      <th></th>\n",
              "      <th></th>\n",
              "      <th></th>\n",
              "      <th></th>\n",
              "      <th></th>\n",
              "      <th></th>\n",
              "      <th></th>\n",
              "      <th></th>\n",
              "      <th></th>\n",
              "      <th></th>\n",
              "      <th></th>\n",
              "      <th></th>\n",
              "      <th></th>\n",
              "      <th></th>\n",
              "      <th></th>\n",
              "      <th></th>\n",
              "      <th></th>\n",
              "      <th></th>\n",
              "      <th></th>\n",
              "      <th></th>\n",
              "      <th></th>\n",
              "      <th></th>\n",
              "      <th></th>\n",
              "      <th></th>\n",
              "      <th></th>\n",
              "      <th></th>\n",
              "      <th></th>\n",
              "      <th></th>\n",
              "      <th></th>\n",
              "      <th></th>\n",
              "      <th></th>\n",
              "    </tr>\n",
              "  </thead>\n",
              "  <tbody>\n",
              "    <tr>\n",
              "      <th>2020-12-01</th>\n",
              "      <td>19633.770447</td>\n",
              "      <td>19845.975483</td>\n",
              "      <td>18321.920930</td>\n",
              "      <td>18802.998300</td>\n",
              "      <td>4.963366e+10</td>\n",
              "      <td>3.489766e+11</td>\n",
              "      <td>12313.360352</td>\n",
              "      <td>12405.790039</td>\n",
              "      <td>12263.929688</td>\n",
              "      <td>12355.110352</td>\n",
              "      <td>6.467180e+09</td>\n",
              "      <td>20.209999</td>\n",
              "      <td>20.920000</td>\n",
              "      <td>20.000000</td>\n",
              "      <td>20.770000</td>\n",
              "      <td>18152.236144</td>\n",
              "      <td>17148.343213</td>\n",
              "      <td>1003.892931</td>\n",
              "      <td>1074.659357</td>\n",
              "      <td>1074.659357</td>\n",
              "      <td>-70.766426</td>\n",
              "      <td>65.684937</td>\n",
              "      <td>104.615445</td>\n",
              "      <td>34.710688</td>\n",
              "      <td>68.321773</td>\n",
              "      <td>18906.046283</td>\n",
              "      <td>17751.025240</td>\n",
              "      <td>0.0</td>\n",
              "      <td>29.842486</td>\n",
              "      <td>3196.147830</td>\n",
              "      <td>0.929554</td>\n",
              "      <td>NaN</td>\n",
              "    </tr>\n",
              "    <tr>\n",
              "      <th>2020-12-02</th>\n",
              "      <td>18801.743593</td>\n",
              "      <td>19308.330663</td>\n",
              "      <td>18347.717838</td>\n",
              "      <td>19201.091157</td>\n",
              "      <td>3.738770e+10</td>\n",
              "      <td>3.563810e+11</td>\n",
              "      <td>12285.750000</td>\n",
              "      <td>12360.059570</td>\n",
              "      <td>12217.349609</td>\n",
              "      <td>12349.370117</td>\n",
              "      <td>5.150820e+09</td>\n",
              "      <td>21.000000</td>\n",
              "      <td>21.250000</td>\n",
              "      <td>20.040001</td>\n",
              "      <td>21.170000</td>\n",
              "      <td>18313.598453</td>\n",
              "      <td>17300.398616</td>\n",
              "      <td>1013.199837</td>\n",
              "      <td>1062.367453</td>\n",
              "      <td>1062.367453</td>\n",
              "      <td>-49.167616</td>\n",
              "      <td>66.850786</td>\n",
              "      <td>97.508828</td>\n",
              "      <td>34.710688</td>\n",
              "      <td>72.730536</td>\n",
              "      <td>19217.757020</td>\n",
              "      <td>17897.262600</td>\n",
              "      <td>0.0</td>\n",
              "      <td>18.451939</td>\n",
              "      <td>3123.752858</td>\n",
              "      <td>0.903078</td>\n",
              "      <td>NaN</td>\n",
              "    </tr>\n",
              "    <tr>\n",
              "      <th>2020-12-03</th>\n",
              "      <td>19205.925404</td>\n",
              "      <td>19566.191884</td>\n",
              "      <td>18925.784434</td>\n",
              "      <td>19445.398480</td>\n",
              "      <td>3.193032e+10</td>\n",
              "      <td>3.609339e+11</td>\n",
              "      <td>12369.259766</td>\n",
              "      <td>12439.019531</td>\n",
              "      <td>12356.990234</td>\n",
              "      <td>12377.179688</td>\n",
              "      <td>5.182100e+09</td>\n",
              "      <td>21.240000</td>\n",
              "      <td>21.879999</td>\n",
              "      <td>20.719999</td>\n",
              "      <td>21.280001</td>\n",
              "      <td>18487.721534</td>\n",
              "      <td>17459.287495</td>\n",
              "      <td>1028.434040</td>\n",
              "      <td>1055.580771</td>\n",
              "      <td>1055.580771</td>\n",
              "      <td>-27.146731</td>\n",
              "      <td>67.550690</td>\n",
              "      <td>109.384141</td>\n",
              "      <td>37.261522</td>\n",
              "      <td>77.999815</td>\n",
              "      <td>19003.834499</td>\n",
              "      <td>18053.642115</td>\n",
              "      <td>0.0</td>\n",
              "      <td>11.461625</td>\n",
              "      <td>3071.562715</td>\n",
              "      <td>0.885699</td>\n",
              "      <td>NaN</td>\n",
              "    </tr>\n",
              "    <tr>\n",
              "      <th>2020-12-04</th>\n",
              "      <td>19446.966422</td>\n",
              "      <td>19511.404714</td>\n",
              "      <td>18697.192914</td>\n",
              "      <td>18699.765613</td>\n",
              "      <td>3.387239e+10</td>\n",
              "      <td>3.471114e+11</td>\n",
              "      <td>12399.320313</td>\n",
              "      <td>12464.230469</td>\n",
              "      <td>12376.440430</td>\n",
              "      <td>12464.230469</td>\n",
              "      <td>5.044210e+09</td>\n",
              "      <td>21.049999</td>\n",
              "      <td>21.150000</td>\n",
              "      <td>19.969999</td>\n",
              "      <td>20.790001</td>\n",
              "      <td>18520.343700</td>\n",
              "      <td>17551.174763</td>\n",
              "      <td>969.168938</td>\n",
              "      <td>1038.298404</td>\n",
              "      <td>1038.298404</td>\n",
              "      <td>-69.129466</td>\n",
              "      <td>63.329062</td>\n",
              "      <td>88.430109</td>\n",
              "      <td>32.361048</td>\n",
              "      <td>74.401123</td>\n",
              "      <td>19326.445913</td>\n",
              "      <td>18185.223460</td>\n",
              "      <td>0.0</td>\n",
              "      <td>32.796262</td>\n",
              "      <td>2886.704512</td>\n",
              "      <td>0.855115</td>\n",
              "      <td>NaN</td>\n",
              "    </tr>\n",
              "    <tr>\n",
              "      <th>2020-12-05</th>\n",
              "      <td>18698.385279</td>\n",
              "      <td>19160.449265</td>\n",
              "      <td>18590.193675</td>\n",
              "      <td>19154.231131</td>\n",
              "      <td>2.724246e+10</td>\n",
              "      <td>3.555639e+11</td>\n",
              "      <td>12399.320313</td>\n",
              "      <td>12464.230469</td>\n",
              "      <td>12376.440430</td>\n",
              "      <td>12464.230469</td>\n",
              "      <td>5.044210e+09</td>\n",
              "      <td>21.049999</td>\n",
              "      <td>21.150000</td>\n",
              "      <td>19.969999</td>\n",
              "      <td>20.790001</td>\n",
              "      <td>18617.864844</td>\n",
              "      <td>17669.919679</td>\n",
              "      <td>947.945165</td>\n",
              "      <td>1020.227756</td>\n",
              "      <td>1020.227756</td>\n",
              "      <td>-72.282592</td>\n",
              "      <td>64.719292</td>\n",
              "      <td>84.093028</td>\n",
              "      <td>30.038075</td>\n",
              "      <td>75.987920</td>\n",
              "      <td>19072.675850</td>\n",
              "      <td>18345.155645</td>\n",
              "      <td>0.0</td>\n",
              "      <td>19.792735</td>\n",
              "      <td>2772.273379</td>\n",
              "      <td>0.825145</td>\n",
              "      <td>NaN</td>\n",
              "    </tr>\n",
              "  </tbody>\n",
              "</table>\n",
              "</div>"
            ],
            "text/plain": [
              "                    open          high  ...      trix  vwap\n",
              "date                                    ...                \n",
              "2020-12-01  19633.770447  19845.975483  ...  0.929554   NaN\n",
              "2020-12-02  18801.743593  19308.330663  ...  0.903078   NaN\n",
              "2020-12-03  19205.925404  19566.191884  ...  0.885699   NaN\n",
              "2020-12-04  19446.966422  19511.404714  ...  0.855115   NaN\n",
              "2020-12-05  18698.385279  19160.449265  ...  0.825145   NaN\n",
              "\n",
              "[5 rows x 32 columns]"
            ]
          },
          "metadata": {
            "tags": []
          },
          "execution_count": 25
        }
      ]
    },
    {
      "cell_type": "code",
      "metadata": {
        "id": "V1HpZLC1cruy"
      },
      "source": [
        ""
      ],
      "execution_count": null,
      "outputs": []
    },
    {
      "cell_type": "code",
      "metadata": {
        "id": "n1T8n0uccWiI"
      },
      "source": [
        "data_vwap = data.assign(vwap=(data.volume * (data.close + data.open)/2) / data.volume.shift(1))"
      ],
      "execution_count": null,
      "outputs": []
    },
    {
      "cell_type": "code",
      "metadata": {
        "id": "OkGsoajXcjLZ"
      },
      "source": [
        "data_vwap = data_vwap.dropna()"
      ],
      "execution_count": null,
      "outputs": []
    },
    {
      "cell_type": "code",
      "metadata": {
        "id": "iA9vP4Z2c3hq"
      },
      "source": [
        "%matplotlib inline\n",
        "\n",
        "import matplotlib.pyplot as plt\n"
      ],
      "execution_count": null,
      "outputs": []
    },
    {
      "cell_type": "code",
      "metadata": {
        "colab": {
          "base_uri": "https://localhost:8080/",
          "height": 456
        },
        "id": "To6YOQ87exLH",
        "outputId": "f19da03d-67c4-40c0-e471-a4cdc2254ad4"
      },
      "source": [
        "fig = plt.figure(figsize=(20,10))\n",
        "plt.plot(data_vwap['vwap'],color = 'orange')\n",
        "plt.plot(data_vwap['close'])\n"
      ],
      "execution_count": null,
      "outputs": [
        {
          "output_type": "execute_result",
          "data": {
            "text/plain": [
              "[<matplotlib.lines.Line2D at 0x7f15fec992e8>]"
            ]
          },
          "metadata": {
            "tags": []
          },
          "execution_count": 35
        },
        {
          "output_type": "display_data",
          "data": {
            "image/png": "[encoded data removed]",
            "text/plain": [
              "<Figure size 1440x720 with 1 Axes>"
            ]
          },
          "metadata": {
            "tags": [],
            "needs_background": "light"
          }
        }
      ]
    },
    {
      "cell_type": "code",
      "metadata": {
        "colab": {
          "base_uri": "https://localhost:8080/"
        },
        "id": "2n4wL5Xx1HwX",
        "outputId": "f7718493-c4bf-4bd7-cd6b-bcde4bd9ed1c"
      },
      "source": [
        "import math\n",
        "import numpy as np\n",
        "testScore = math.sqrt(np.square(np.subtract(data_vwap['close'],data_vwap['vwap'])).mean())\n",
        "print('Train Score: %.2f RMSE' % testScore)"
      ],
      "execution_count": null,
      "outputs": [
        {
          "output_type": "stream",
          "text": [
            "Train Score: inf RMSE\n"
          ],
          "name": "stdout"
        }
      ]
    },
    {
      "cell_type": "markdown",
      "metadata": {
        "id": "Ta_q2OeO6K-f"
      },
      "source": [
        "#**Time Series Models**\n",
        "\n",
        "\n"
      ]
    },
    {
      "cell_type": "code",
      "metadata": {
        "id": "Hg3p93T36NMK"
      },
      "source": [
        "import numpy as np\n",
        "import pandas as pd\n",
        "import seaborn as sns\n",
        "import matplotlib.pyplot as plt\n",
        "import matplotlib as mpl\n",
        "from scipy import stats\n",
        "import statsmodels.api as sm\n",
        "import warnings\n",
        "from itertools import product\n",
        "from datetime import datetime\n",
        "warnings.filterwarnings('ignore')\n",
        "plt.style.use('seaborn-poster')\n",
        "!pip install pmdarima\n",
        "import pmdarima as pm\n",
        "from sklearn.metrics import mean_squared_error, mean_absolute_error"
      ],
      "execution_count": null,
      "outputs": []
    },
    {
      "cell_type": "code",
      "metadata": {
        "id": "K_2jQDIf6nga"
      },
      "source": [
        "df = pd.read_csv(\"data.csv\")\n",
        "df2 = pd.read_csv(\"data.csv\")\n",
        "df['date'] = pd.to_datetime(df['date'])\n",
        "df.Timestamp = pd.to_datetime(df.date)\n",
        "df.index = df.Timestamp\n",
        "df = df.dropna()\n",
        "df['next_close'] = df['close'].shift(-1)\n",
        "df = df.dropna()\n",
        "df_train = df[(df.date < \"2019-11-01\") & (df.date >= '2017-01-01')]\n",
        "df_valid = df[df.date >= \"2019-11-01\"]"
      ],
      "execution_count": 55,
      "outputs": []
    },
    {
      "cell_type": "markdown",
      "metadata": {
        "id": "XllEwoLM63xM"
      },
      "source": [
        "**ARIMA Model Using Auto ARIMAX**"
      ]
    },
    {
      "cell_type": "code",
      "metadata": {
        "id": "WSQLNLm06_YB"
      },
      "source": [
        "!pip install pyramid-arima"
      ],
      "execution_count": null,
      "outputs": []
    },
    {
      "cell_type": "code",
      "metadata": {
        "colab": {
          "base_uri": "https://localhost:8080/"
        },
        "id": "bOuzwQFw688H",
        "outputId": "fb131b5c-51f1-44f0-d95b-fd519c70e158"
      },
      "source": [
        "features = ['volume', 'amount', 'nas_open',\n",
        "       'nas_high', 'nas_low', 'nas_close', 'nas_volume', 'vol_open',\n",
        "       'vol_high', 'vol_low', 'vol_close', 'close_12_ema', 'close_26_ema',\n",
        "       'macd', 'macd_9_ema', 'macds', 'macdh', 'rsi_30', 'cci_30', 'dx_30',\n",
        "       'kdjk', 'open_2_sma', 'boll', 'close_10.0_le_5_c', 'wr_10', 'dma',\n",
        "       'trix']\n",
        "\n",
        "from pyramid.arima import auto_arima\n",
        "\n",
        "\n",
        "model = auto_arima(df_train['next_close'], start_p=1, start_q=1,max_p=3, max_q=3, m=12,start_P=0, seasonal=True,d=1, D=1, trace=True,error_action='ignore',suppress_warnings=True)"
      ],
      "execution_count": 57,
      "outputs": [
        {
          "output_type": "stream",
          "text": [
            "Fit ARIMA: order=(1, 1, 1) seasonal_order=(0, 1, 1, 12); AIC=15080.977, BIC=15105.620, Fit time=8.021 seconds\n",
            "Fit ARIMA: order=(0, 1, 0) seasonal_order=(0, 1, 0, 12); AIC=15757.989, BIC=15767.846, Fit time=0.086 seconds\n",
            "Fit ARIMA: order=(1, 1, 0) seasonal_order=(1, 1, 0, 12); AIC=15486.645, BIC=15506.360, Fit time=3.566 seconds\n",
            "Fit ARIMA: order=(0, 1, 1) seasonal_order=(0, 1, 1, 12); AIC=15078.006, BIC=15097.720, Fit time=10.120 seconds\n",
            "Fit ARIMA: order=(0, 1, 1) seasonal_order=(1, 1, 1, 12); AIC=15079.571, BIC=15104.214, Fit time=12.367 seconds\n",
            "Fit ARIMA: order=(0, 1, 1) seasonal_order=(0, 1, 0, 12); AIC=15752.691, BIC=15767.477, Fit time=0.318 seconds\n",
            "Fit ARIMA: order=(0, 1, 1) seasonal_order=(0, 1, 2, 12); AIC=15079.527, BIC=15104.170, Fit time=29.214 seconds\n",
            "Fit ARIMA: order=(0, 1, 1) seasonal_order=(1, 1, 2, 12); AIC=15084.921, BIC=15114.492, Fit time=34.037 seconds\n",
            "Fit ARIMA: order=(0, 1, 0) seasonal_order=(0, 1, 1, 12); AIC=15078.207, BIC=15092.993, Fit time=2.198 seconds\n",
            "Fit ARIMA: order=(0, 1, 2) seasonal_order=(0, 1, 1, 12); AIC=15078.946, BIC=15103.589, Fit time=12.022 seconds\n",
            "Fit ARIMA: order=(1, 1, 2) seasonal_order=(0, 1, 1, 12); AIC=15082.009, BIC=15111.580, Fit time=13.916 seconds\n",
            "Total fit time: 125.869 seconds\n"
          ],
          "name": "stdout"
        }
      ]
    },
    {
      "cell_type": "code",
      "metadata": {
        "colab": {
          "base_uri": "https://localhost:8080/",
          "height": 640
        },
        "id": "9fJ8C3B67FM7",
        "outputId": "1d192919-a46c-4314-e869-26a174adac3c"
      },
      "source": [
        "forecast = model.predict(n_periods=len(df_valid))\n",
        "\n",
        "df_valid[\"Forecast_ARIMAX\"] = forecast\n",
        "df_valid"
      ],
      "execution_count": 59,
      "outputs": [
        {
          "output_type": "execute_result",
          "data": {
            "text/html": [
              "<div>\n",
              "<style scoped>\n",
              "    .dataframe tbody tr th:only-of-type {\n",
              "        vertical-align: middle;\n",
              "    }\n",
              "\n",
              "    .dataframe tbody tr th {\n",
              "        vertical-align: top;\n",
              "    }\n",
              "\n",
              "    .dataframe thead th {\n",
              "        text-align: right;\n",
              "    }\n",
              "</style>\n",
              "<table border=\"1\" class=\"dataframe\">\n",
              "  <thead>\n",
              "    <tr style=\"text-align: right;\">\n",
              "      <th></th>\n",
              "      <th>date</th>\n",
              "      <th>open</th>\n",
              "      <th>high</th>\n",
              "      <th>low</th>\n",
              "      <th>close</th>\n",
              "      <th>volume</th>\n",
              "      <th>amount</th>\n",
              "      <th>nas_open</th>\n",
              "      <th>nas_high</th>\n",
              "      <th>nas_low</th>\n",
              "      <th>nas_close</th>\n",
              "      <th>nas_volume</th>\n",
              "      <th>vol_open</th>\n",
              "      <th>vol_high</th>\n",
              "      <th>vol_low</th>\n",
              "      <th>vol_close</th>\n",
              "      <th>close_12_ema</th>\n",
              "      <th>close_26_ema</th>\n",
              "      <th>macd</th>\n",
              "      <th>macd_9_ema</th>\n",
              "      <th>macds</th>\n",
              "      <th>macdh</th>\n",
              "      <th>rsi_30</th>\n",
              "      <th>cci_30</th>\n",
              "      <th>dx_30</th>\n",
              "      <th>kdjk</th>\n",
              "      <th>open_2_sma</th>\n",
              "      <th>boll</th>\n",
              "      <th>close_10.0_le_5_c</th>\n",
              "      <th>wr_10</th>\n",
              "      <th>dma</th>\n",
              "      <th>trix</th>\n",
              "      <th>next_close</th>\n",
              "      <th>Forecast_ARIMAX</th>\n",
              "    </tr>\n",
              "    <tr>\n",
              "      <th>date</th>\n",
              "      <th></th>\n",
              "      <th></th>\n",
              "      <th></th>\n",
              "      <th></th>\n",
              "      <th></th>\n",
              "      <th></th>\n",
              "      <th></th>\n",
              "      <th></th>\n",
              "      <th></th>\n",
              "      <th></th>\n",
              "      <th></th>\n",
              "      <th></th>\n",
              "      <th></th>\n",
              "      <th></th>\n",
              "      <th></th>\n",
              "      <th></th>\n",
              "      <th></th>\n",
              "      <th></th>\n",
              "      <th></th>\n",
              "      <th></th>\n",
              "      <th></th>\n",
              "      <th></th>\n",
              "      <th></th>\n",
              "      <th></th>\n",
              "      <th></th>\n",
              "      <th></th>\n",
              "      <th></th>\n",
              "      <th></th>\n",
              "      <th></th>\n",
              "      <th></th>\n",
              "      <th></th>\n",
              "      <th></th>\n",
              "      <th></th>\n",
              "      <th></th>\n",
              "    </tr>\n",
              "  </thead>\n",
              "  <tbody>\n",
              "    <tr>\n",
              "      <th>2019-11-01</th>\n",
              "      <td>2019-11-01</td>\n",
              "      <td>9193.991989</td>\n",
              "      <td>9275.657271</td>\n",
              "      <td>9132.047576</td>\n",
              "      <td>9261.104352</td>\n",
              "      <td>2.432469e+10</td>\n",
              "      <td>1.669280e+11</td>\n",
              "      <td>8335.049805</td>\n",
              "      <td>8386.750000</td>\n",
              "      <td>8326.559570</td>\n",
              "      <td>8386.400391</td>\n",
              "      <td>2.057310e+09</td>\n",
              "      <td>12.500000</td>\n",
              "      <td>12.600000</td>\n",
              "      <td>12.260000</td>\n",
              "      <td>12.300000</td>\n",
              "      <td>8918.636186</td>\n",
              "      <td>8729.232639</td>\n",
              "      <td>189.403547</td>\n",
              "      <td>35.641219</td>\n",
              "      <td>35.641219</td>\n",
              "      <td>153.762327</td>\n",
              "      <td>52.366974</td>\n",
              "      <td>123.315521</td>\n",
              "      <td>27.162710</td>\n",
              "      <td>69.275654</td>\n",
              "      <td>9198.224789</td>\n",
              "      <td>8518.703531</td>\n",
              "      <td>0.0</td>\n",
              "      <td>29.542209</td>\n",
              "      <td>77.512795</td>\n",
              "      <td>0.332734</td>\n",
              "      <td>9324.717763</td>\n",
              "      <td>9201.738293</td>\n",
              "    </tr>\n",
              "    <tr>\n",
              "      <th>2019-11-02</th>\n",
              "      <td>2019-11-02</td>\n",
              "      <td>9259.783003</td>\n",
              "      <td>9377.486567</td>\n",
              "      <td>9249.587727</td>\n",
              "      <td>9324.717763</td>\n",
              "      <td>2.124268e+10</td>\n",
              "      <td>1.680904e+11</td>\n",
              "      <td>8390.274903</td>\n",
              "      <td>8419.060058</td>\n",
              "      <td>8373.929688</td>\n",
              "      <td>8409.800293</td>\n",
              "      <td>2.103610e+09</td>\n",
              "      <td>12.590000</td>\n",
              "      <td>12.865000</td>\n",
              "      <td>12.350000</td>\n",
              "      <td>12.565000</td>\n",
              "      <td>8981.110275</td>\n",
              "      <td>8773.342648</td>\n",
              "      <td>207.767626</td>\n",
              "      <td>70.066501</td>\n",
              "      <td>70.066501</td>\n",
              "      <td>137.701126</td>\n",
              "      <td>52.859745</td>\n",
              "      <td>122.448264</td>\n",
              "      <td>29.661158</td>\n",
              "      <td>70.376110</td>\n",
              "      <td>9226.887496</td>\n",
              "      <td>8568.889132</td>\n",
              "      <td>0.0</td>\n",
              "      <td>27.071551</td>\n",
              "      <td>279.233960</td>\n",
              "      <td>0.397408</td>\n",
              "      <td>9235.354879</td>\n",
              "      <td>9294.042764</td>\n",
              "    </tr>\n",
              "    <tr>\n",
              "      <th>2019-11-03</th>\n",
              "      <td>2019-11-03</td>\n",
              "      <td>9324.786832</td>\n",
              "      <td>9379.806872</td>\n",
              "      <td>9141.251991</td>\n",
              "      <td>9235.354879</td>\n",
              "      <td>2.113222e+10</td>\n",
              "      <td>1.664953e+11</td>\n",
              "      <td>8390.274903</td>\n",
              "      <td>8419.060058</td>\n",
              "      <td>8373.929688</td>\n",
              "      <td>8409.800293</td>\n",
              "      <td>2.103610e+09</td>\n",
              "      <td>12.590000</td>\n",
              "      <td>12.865000</td>\n",
              "      <td>12.350000</td>\n",
              "      <td>12.565000</td>\n",
              "      <td>9020.224829</td>\n",
              "      <td>8807.565777</td>\n",
              "      <td>212.659053</td>\n",
              "      <td>98.585011</td>\n",
              "      <td>98.585011</td>\n",
              "      <td>114.074042</td>\n",
              "      <td>52.076832</td>\n",
              "      <td>101.545041</td>\n",
              "      <td>24.792947</td>\n",
              "      <td>60.964040</td>\n",
              "      <td>9292.284918</td>\n",
              "      <td>8611.922554</td>\n",
              "      <td>0.0</td>\n",
              "      <td>30.938767</td>\n",
              "      <td>475.874461</td>\n",
              "      <td>0.444335</td>\n",
              "      <td>9412.611871</td>\n",
              "      <td>9298.109881</td>\n",
              "    </tr>\n",
              "    <tr>\n",
              "      <th>2019-11-04</th>\n",
              "      <td>2019-11-04</td>\n",
              "      <td>9235.607065</td>\n",
              "      <td>9505.051676</td>\n",
              "      <td>9191.485739</td>\n",
              "      <td>9412.611871</td>\n",
              "      <td>2.617026e+10</td>\n",
              "      <td>1.697063e+11</td>\n",
              "      <td>8445.500000</td>\n",
              "      <td>8451.370117</td>\n",
              "      <td>8421.299805</td>\n",
              "      <td>8433.200195</td>\n",
              "      <td>2.149910e+09</td>\n",
              "      <td>12.680000</td>\n",
              "      <td>13.130000</td>\n",
              "      <td>12.440000</td>\n",
              "      <td>12.830000</td>\n",
              "      <td>9080.592066</td>\n",
              "      <td>8852.384006</td>\n",
              "      <td>228.208061</td>\n",
              "      <td>124.509621</td>\n",
              "      <td>124.509621</td>\n",
              "      <td>103.698440</td>\n",
              "      <td>53.490349</td>\n",
              "      <td>106.163239</td>\n",
              "      <td>28.127767</td>\n",
              "      <td>57.124495</td>\n",
              "      <td>9280.196949</td>\n",
              "      <td>8672.284681</td>\n",
              "      <td>0.0</td>\n",
              "      <td>44.818073</td>\n",
              "      <td>569.767605</td>\n",
              "      <td>0.483314</td>\n",
              "      <td>9342.527179</td>\n",
              "      <td>9326.699245</td>\n",
              "    </tr>\n",
              "    <tr>\n",
              "      <th>2019-11-05</th>\n",
              "      <td>2019-11-05</td>\n",
              "      <td>9413.004943</td>\n",
              "      <td>9457.418435</td>\n",
              "      <td>9256.932015</td>\n",
              "      <td>9342.527179</td>\n",
              "      <td>2.619861e+10</td>\n",
              "      <td>1.684598e+11</td>\n",
              "      <td>8446.620117</td>\n",
              "      <td>8457.389648</td>\n",
              "      <td>8421.049805</td>\n",
              "      <td>8434.679688</td>\n",
              "      <td>2.316710e+09</td>\n",
              "      <td>12.850000</td>\n",
              "      <td>13.280000</td>\n",
              "      <td>12.250000</td>\n",
              "      <td>13.100000</td>\n",
              "      <td>9120.889776</td>\n",
              "      <td>8888.690908</td>\n",
              "      <td>232.198869</td>\n",
              "      <td>146.047470</td>\n",
              "      <td>146.047470</td>\n",
              "      <td>86.151398</td>\n",
              "      <td>52.852723</td>\n",
              "      <td>94.385726</td>\n",
              "      <td>28.127767</td>\n",
              "      <td>51.555840</td>\n",
              "      <td>9324.306004</td>\n",
              "      <td>8737.034697</td>\n",
              "      <td>0.0</td>\n",
              "      <td>59.581469</td>\n",
              "      <td>598.208430</td>\n",
              "      <td>0.509967</td>\n",
              "      <td>9360.879912</td>\n",
              "      <td>9320.974611</td>\n",
              "    </tr>\n",
              "    <tr>\n",
              "      <th>...</th>\n",
              "      <td>...</td>\n",
              "      <td>...</td>\n",
              "      <td>...</td>\n",
              "      <td>...</td>\n",
              "      <td>...</td>\n",
              "      <td>...</td>\n",
              "      <td>...</td>\n",
              "      <td>...</td>\n",
              "      <td>...</td>\n",
              "      <td>...</td>\n",
              "      <td>...</td>\n",
              "      <td>...</td>\n",
              "      <td>...</td>\n",
              "      <td>...</td>\n",
              "      <td>...</td>\n",
              "      <td>...</td>\n",
              "      <td>...</td>\n",
              "      <td>...</td>\n",
              "      <td>...</td>\n",
              "      <td>...</td>\n",
              "      <td>...</td>\n",
              "      <td>...</td>\n",
              "      <td>...</td>\n",
              "      <td>...</td>\n",
              "      <td>...</td>\n",
              "      <td>...</td>\n",
              "      <td>...</td>\n",
              "      <td>...</td>\n",
              "      <td>...</td>\n",
              "      <td>...</td>\n",
              "      <td>...</td>\n",
              "      <td>...</td>\n",
              "      <td>...</td>\n",
              "      <td>...</td>\n",
              "    </tr>\n",
              "    <tr>\n",
              "      <th>2020-11-29</th>\n",
              "      <td>2020-11-29</td>\n",
              "      <td>17719.634614</td>\n",
              "      <td>18283.628173</td>\n",
              "      <td>17559.117622</td>\n",
              "      <td>18177.483420</td>\n",
              "      <td>3.113396e+10</td>\n",
              "      <td>3.373366e+11</td>\n",
              "      <td>12191.714844</td>\n",
              "      <td>12240.440430</td>\n",
              "      <td>12090.865234</td>\n",
              "      <td>12202.294922</td>\n",
              "      <td>5.547660e+09</td>\n",
              "      <td>22.079999</td>\n",
              "      <td>22.244999</td>\n",
              "      <td>19.995000</td>\n",
              "      <td>20.705000</td>\n",
              "      <td>17744.475883</td>\n",
              "      <td>16807.181668</td>\n",
              "      <td>937.294215</td>\n",
              "      <td>1110.952468</td>\n",
              "      <td>1110.952468</td>\n",
              "      <td>-173.658253</td>\n",
              "      <td>66.317870</td>\n",
              "      <td>75.585504</td>\n",
              "      <td>18.128991</td>\n",
              "      <td>52.921928</td>\n",
              "      <td>17416.284426</td>\n",
              "      <td>17379.195694</td>\n",
              "      <td>0.0</td>\n",
              "      <td>39.918085</td>\n",
              "      <td>3389.404980</td>\n",
              "      <td>1.005841</td>\n",
              "      <td>19625.835029</td>\n",
              "      <td>8964.146378</td>\n",
              "    </tr>\n",
              "    <tr>\n",
              "      <th>2020-11-30</th>\n",
              "      <td>2020-11-30</td>\n",
              "      <td>18178.322118</td>\n",
              "      <td>19749.263694</td>\n",
              "      <td>18178.322118</td>\n",
              "      <td>19625.835029</td>\n",
              "      <td>4.772848e+10</td>\n",
              "      <td>3.642297e+11</td>\n",
              "      <td>12224.250000</td>\n",
              "      <td>12244.650391</td>\n",
              "      <td>12027.160156</td>\n",
              "      <td>12198.740234</td>\n",
              "      <td>7.693430e+09</td>\n",
              "      <td>22.639999</td>\n",
              "      <td>22.889999</td>\n",
              "      <td>20.480000</td>\n",
              "      <td>20.570000</td>\n",
              "      <td>18033.915752</td>\n",
              "      <td>17015.970806</td>\n",
              "      <td>1017.944946</td>\n",
              "      <td>1092.350964</td>\n",
              "      <td>1092.350964</td>\n",
              "      <td>-74.406018</td>\n",
              "      <td>70.649538</td>\n",
              "      <td>120.640707</td>\n",
              "      <td>33.827626</td>\n",
              "      <td>67.403903</td>\n",
              "      <td>17948.978366</td>\n",
              "      <td>17595.942312</td>\n",
              "      <td>0.0</td>\n",
              "      <td>3.632147</td>\n",
              "      <td>3325.023985</td>\n",
              "      <td>0.965741</td>\n",
              "      <td>18802.998300</td>\n",
              "      <td>8928.725295</td>\n",
              "    </tr>\n",
              "    <tr>\n",
              "      <th>2020-12-01</th>\n",
              "      <td>2020-12-01</td>\n",
              "      <td>19633.770447</td>\n",
              "      <td>19845.975483</td>\n",
              "      <td>18321.920930</td>\n",
              "      <td>18802.998300</td>\n",
              "      <td>4.963366e+10</td>\n",
              "      <td>3.489766e+11</td>\n",
              "      <td>12313.360352</td>\n",
              "      <td>12405.790039</td>\n",
              "      <td>12263.929688</td>\n",
              "      <td>12355.110352</td>\n",
              "      <td>6.467180e+09</td>\n",
              "      <td>20.209999</td>\n",
              "      <td>20.920000</td>\n",
              "      <td>20.000000</td>\n",
              "      <td>20.770000</td>\n",
              "      <td>18152.236144</td>\n",
              "      <td>17148.343213</td>\n",
              "      <td>1003.892931</td>\n",
              "      <td>1074.659357</td>\n",
              "      <td>1074.659357</td>\n",
              "      <td>-70.766426</td>\n",
              "      <td>65.684937</td>\n",
              "      <td>104.615445</td>\n",
              "      <td>34.710688</td>\n",
              "      <td>68.321773</td>\n",
              "      <td>18906.046283</td>\n",
              "      <td>17751.025240</td>\n",
              "      <td>0.0</td>\n",
              "      <td>29.842486</td>\n",
              "      <td>3196.147830</td>\n",
              "      <td>0.929554</td>\n",
              "      <td>19201.091157</td>\n",
              "      <td>8859.971451</td>\n",
              "    </tr>\n",
              "    <tr>\n",
              "      <th>2020-12-02</th>\n",
              "      <td>2020-12-02</td>\n",
              "      <td>18801.743593</td>\n",
              "      <td>19308.330663</td>\n",
              "      <td>18347.717838</td>\n",
              "      <td>19201.091157</td>\n",
              "      <td>3.738770e+10</td>\n",
              "      <td>3.563810e+11</td>\n",
              "      <td>12285.750000</td>\n",
              "      <td>12360.059570</td>\n",
              "      <td>12217.349609</td>\n",
              "      <td>12349.370117</td>\n",
              "      <td>5.150820e+09</td>\n",
              "      <td>21.000000</td>\n",
              "      <td>21.250000</td>\n",
              "      <td>20.040001</td>\n",
              "      <td>21.170000</td>\n",
              "      <td>18313.598453</td>\n",
              "      <td>17300.398616</td>\n",
              "      <td>1013.199837</td>\n",
              "      <td>1062.367453</td>\n",
              "      <td>1062.367453</td>\n",
              "      <td>-49.167616</td>\n",
              "      <td>66.850786</td>\n",
              "      <td>97.508828</td>\n",
              "      <td>34.710688</td>\n",
              "      <td>72.730536</td>\n",
              "      <td>19217.757020</td>\n",
              "      <td>17897.262600</td>\n",
              "      <td>0.0</td>\n",
              "      <td>18.451939</td>\n",
              "      <td>3123.752858</td>\n",
              "      <td>0.903078</td>\n",
              "      <td>19445.398480</td>\n",
              "      <td>8947.306158</td>\n",
              "    </tr>\n",
              "    <tr>\n",
              "      <th>2020-12-03</th>\n",
              "      <td>2020-12-03</td>\n",
              "      <td>19205.925404</td>\n",
              "      <td>19566.191884</td>\n",
              "      <td>18925.784434</td>\n",
              "      <td>19445.398480</td>\n",
              "      <td>3.193032e+10</td>\n",
              "      <td>3.609339e+11</td>\n",
              "      <td>12369.259766</td>\n",
              "      <td>12439.019531</td>\n",
              "      <td>12356.990234</td>\n",
              "      <td>12377.179688</td>\n",
              "      <td>5.182100e+09</td>\n",
              "      <td>21.240000</td>\n",
              "      <td>21.879999</td>\n",
              "      <td>20.719999</td>\n",
              "      <td>21.280001</td>\n",
              "      <td>18487.721534</td>\n",
              "      <td>17459.287495</td>\n",
              "      <td>1028.434040</td>\n",
              "      <td>1055.580771</td>\n",
              "      <td>1055.580771</td>\n",
              "      <td>-27.146731</td>\n",
              "      <td>67.550690</td>\n",
              "      <td>109.384141</td>\n",
              "      <td>37.261522</td>\n",
              "      <td>77.999815</td>\n",
              "      <td>19003.834499</td>\n",
              "      <td>18053.642115</td>\n",
              "      <td>0.0</td>\n",
              "      <td>11.461625</td>\n",
              "      <td>3071.562715</td>\n",
              "      <td>0.885699</td>\n",
              "      <td>18699.765613</td>\n",
              "      <td>8946.403512</td>\n",
              "    </tr>\n",
              "  </tbody>\n",
              "</table>\n",
              "<p>399 rows × 34 columns</p>\n",
              "</div>"
            ],
            "text/plain": [
              "                 date          open  ...    next_close  Forecast_ARIMAX\n",
              "date                                 ...                               \n",
              "2019-11-01 2019-11-01   9193.991989  ...   9324.717763      9201.738293\n",
              "2019-11-02 2019-11-02   9259.783003  ...   9235.354879      9294.042764\n",
              "2019-11-03 2019-11-03   9324.786832  ...   9412.611871      9298.109881\n",
              "2019-11-04 2019-11-04   9235.607065  ...   9342.527179      9326.699245\n",
              "2019-11-05 2019-11-05   9413.004943  ...   9360.879912      9320.974611\n",
              "...               ...           ...  ...           ...              ...\n",
              "2020-11-29 2020-11-29  17719.634614  ...  19625.835029      8964.146378\n",
              "2020-11-30 2020-11-30  18178.322118  ...  18802.998300      8928.725295\n",
              "2020-12-01 2020-12-01  19633.770447  ...  19201.091157      8859.971451\n",
              "2020-12-02 2020-12-02  18801.743593  ...  19445.398480      8947.306158\n",
              "2020-12-03 2020-12-03  19205.925404  ...  18699.765613      8946.403512\n",
              "\n",
              "[399 rows x 34 columns]"
            ]
          },
          "metadata": {
            "tags": []
          },
          "execution_count": 59
        }
      ]
    },
    {
      "cell_type": "code",
      "metadata": {
        "colab": {
          "base_uri": "https://localhost:8080/",
          "height": 454
        },
        "id": "UC3twDVB7Jff",
        "outputId": "c1099fac-c12c-4ab9-a5cc-db3140e4f50f"
      },
      "source": [
        "plt.rcParams['figure.figsize'] = [20, 10]\n",
        "plt.plot(df_valid[['next_close', 'Forecast_ARIMAX']])\n",
        "plt.plot(df_train['next_close'])"
      ],
      "execution_count": 60,
      "outputs": [
        {
          "output_type": "execute_result",
          "data": {
            "text/plain": [
              "[<matplotlib.lines.Line2D at 0x7f156aa7fe10>]"
            ]
          },
          "metadata": {
            "tags": []
          },
          "execution_count": 60
        },
        {
          "output_type": "display_data",
          "data": {
            "image/png": "[encoded data removed]",
            "text/plain": [
              "<Figure size 1440x720 with 1 Axes>"
            ]
          },
          "metadata": {
            "tags": [],
            "needs_background": "light"
          }
        }
      ]
    },
    {
      "cell_type": "code",
      "metadata": {
        "colab": {
          "base_uri": "https://localhost:8080/",
          "height": 491
        },
        "id": "qIUy0WRv7Lp2",
        "outputId": "adcb59ba-66d4-4232-d1ea-3eedbed45cc1"
      },
      "source": [
        "df_valid[['next_close', 'Forecast_ARIMAX']].plot(figsize=(14,7))\n"
      ],
      "execution_count": 61,
      "outputs": [
        {
          "output_type": "execute_result",
          "data": {
            "text/plain": [
              "<matplotlib.axes._subplots.AxesSubplot at 0x7f15c0219978>"
            ]
          },
          "metadata": {
            "tags": []
          },
          "execution_count": 61
        },
        {
          "output_type": "display_data",
          "data": {
            "image/png": "[encoded data removed]",
            "text/plain": [
              "<Figure size 1008x504 with 1 Axes>"
            ]
          },
          "metadata": {
            "tags": [],
            "needs_background": "light"
          }
        }
      ]
    },
    {
      "cell_type": "code",
      "metadata": {
        "colab": {
          "base_uri": "https://localhost:8080/"
        },
        "id": "Hju3Mb7w7NXs",
        "outputId": "ec05689d-b3cc-483a-a26c-9a11a7fa96d0"
      },
      "source": [
        "from sklearn.metrics import mean_squared_error, mean_absolute_error\n",
        "\n",
        "print(\"RMSE of Auto ARIMA:\", np.sqrt(mean_squared_error(df_valid.close, df_valid.Forecast_ARIMAX)))\n",
        "\n",
        "print(\"\\nMAE of Auto ARIMA:\", mean_absolute_error(df_valid.close, df_valid.Forecast_ARIMAX))\n"
      ],
      "execution_count": 62,
      "outputs": [
        {
          "output_type": "stream",
          "text": [
            "RMSE of Auto ARIMA: 2895.7560818050965\n",
            "\n",
            "MAE of Auto ARIMA: 1946.3828549039079\n"
          ],
          "name": "stdout"
        }
      ]
    },
    {
      "cell_type": "markdown",
      "metadata": {
        "id": "-h6u2NaXQJWJ"
      },
      "source": [
        "**Using Prophet**"
      ]
    },
    {
      "cell_type": "code",
      "metadata": {
        "colab": {
          "base_uri": "https://localhost:8080/"
        },
        "id": "vt4ihFAyQMiS",
        "outputId": "b333b893-b249-45ef-8aae-42437bdd0a84"
      },
      "source": [
        "!pip install fbprophet\n",
        "from fbprophet import Prophet"
      ],
      "execution_count": null,
      "outputs": [
        {
          "output_type": "stream",
          "text": [
            "Requirement already satisfied: fbprophet in /usr/local/lib/python3.6/dist-packages (0.7.1)\n",
            "Requirement already satisfied: Cython>=0.22 in /usr/local/lib/python3.6/dist-packages (from fbprophet) (0.29.17)\n",
            "Requirement already satisfied: cmdstanpy==0.9.5 in /usr/local/lib/python3.6/dist-packages (from fbprophet) (0.9.5)\n",
            "Requirement already satisfied: pystan>=2.14 in /usr/local/lib/python3.6/dist-packages (from fbprophet) (2.19.1.1)\n",
            "Requirement already satisfied: numpy>=1.15.4 in /usr/local/lib/python3.6/dist-packages (from fbprophet) (1.18.5)\n",
            "Requirement already satisfied: pandas>=1.0.4 in /usr/local/lib/python3.6/dist-packages (from fbprophet) (1.1.5)\n",
            "Requirement already satisfied: matplotlib>=2.0.0 in /usr/local/lib/python3.6/dist-packages (from fbprophet) (3.2.2)\n",
            "Requirement already satisfied: LunarCalendar>=0.0.9 in /usr/local/lib/python3.6/dist-packages (from fbprophet) (0.0.9)\n",
            "Requirement already satisfied: convertdate>=2.1.2 in /usr/local/lib/python3.6/dist-packages (from fbprophet) (2.2.0)\n",
            "Requirement already satisfied: holidays>=0.10.2 in /usr/local/lib/python3.6/dist-packages (from fbprophet) (0.10.4)\n",
            "Requirement already satisfied: setuptools-git>=1.2 in /usr/local/lib/python3.6/dist-packages (from fbprophet) (1.2)\n",
            "Requirement already satisfied: python-dateutil>=2.8.0 in /usr/local/lib/python3.6/dist-packages (from fbprophet) (2.8.1)\n",
            "Requirement already satisfied: tqdm>=4.36.1 in /usr/local/lib/python3.6/dist-packages (from fbprophet) (4.41.1)\n",
            "Requirement already satisfied: pytz>=2017.2 in /usr/local/lib/python3.6/dist-packages (from pandas>=1.0.4->fbprophet) (2018.9)\n",
            "Requirement already satisfied: pyparsing!=2.0.4,!=2.1.2,!=2.1.6,>=2.0.1 in /usr/local/lib/python3.6/dist-packages (from matplotlib>=2.0.0->fbprophet) (2.4.7)\n",
            "Requirement already satisfied: kiwisolver>=1.0.1 in /usr/local/lib/python3.6/dist-packages (from matplotlib>=2.0.0->fbprophet) (1.3.1)\n",
            "Requirement already satisfied: cycler>=0.10 in /usr/local/lib/python3.6/dist-packages (from matplotlib>=2.0.0->fbprophet) (0.10.0)\n",
            "Requirement already satisfied: ephem>=3.7.5.3 in /usr/local/lib/python3.6/dist-packages (from LunarCalendar>=0.0.9->fbprophet) (3.7.7.1)\n",
            "Requirement already satisfied: pymeeus<=1,>=0.3.6 in /usr/local/lib/python3.6/dist-packages (from convertdate>=2.1.2->fbprophet) (0.3.7)\n",
            "Requirement already satisfied: korean-lunar-calendar in /usr/local/lib/python3.6/dist-packages (from holidays>=0.10.2->fbprophet) (0.2.1)\n",
            "Requirement already satisfied: six in /usr/local/lib/python3.6/dist-packages (from holidays>=0.10.2->fbprophet) (1.15.0)\n"
          ],
          "name": "stdout"
        }
      ]
    },
    {
      "cell_type": "code",
      "metadata": {
        "id": "vC6VM3FRQh8G"
      },
      "source": [
        "model2 = Prophet()\n",
        "\n",
        "df_train2 = df[(df['date'] < '2019-11-01') & (df['date'] >= '2017-01-01')]\n",
        "\n",
        "df_test2 = df[df['date'] >= '2019-11-01']\n",
        "\n",
        "train2 = df_train2[['close', 'date']]\n",
        "train2.index = train2['date']\n",
        "\n",
        "test2 = df_test2[['close', 'date']]\n",
        "test2.index = test2['date']\n",
        "\n",
        "train2.rename(columns={'close': 'y', 'date': 'ds'}, inplace=True)\n",
        "test2.rename(columns={'close': 'y', 'date': 'ds'}, inplace=True)"
      ],
      "execution_count": null,
      "outputs": []
    },
    {
      "cell_type": "code",
      "metadata": {
        "colab": {
          "base_uri": "https://localhost:8080/",
          "height": 450
        },
        "id": "wbFFnl_OQpIC",
        "outputId": "4ac93092-bfa5-4dc7-bb12-d58fc4505b9a"
      },
      "source": [
        "train2"
      ],
      "execution_count": null,
      "outputs": [
        {
          "output_type": "execute_result",
          "data": {
            "text/html": [
              "<div>\n",
              "<style scoped>\n",
              "    .dataframe tbody tr th:only-of-type {\n",
              "        vertical-align: middle;\n",
              "    }\n",
              "\n",
              "    .dataframe tbody tr th {\n",
              "        vertical-align: top;\n",
              "    }\n",
              "\n",
              "    .dataframe thead th {\n",
              "        text-align: right;\n",
              "    }\n",
              "</style>\n",
              "<table border=\"1\" class=\"dataframe\">\n",
              "  <thead>\n",
              "    <tr style=\"text-align: right;\">\n",
              "      <th></th>\n",
              "      <th>y</th>\n",
              "      <th>ds</th>\n",
              "    </tr>\n",
              "    <tr>\n",
              "      <th>date</th>\n",
              "      <th></th>\n",
              "      <th></th>\n",
              "    </tr>\n",
              "  </thead>\n",
              "  <tbody>\n",
              "    <tr>\n",
              "      <th>2017-01-01</th>\n",
              "      <td>1003.080017</td>\n",
              "      <td>2017-01-01</td>\n",
              "    </tr>\n",
              "    <tr>\n",
              "      <th>2017-01-02</th>\n",
              "      <td>1031.390015</td>\n",
              "      <td>2017-01-02</td>\n",
              "    </tr>\n",
              "    <tr>\n",
              "      <th>2017-01-03</th>\n",
              "      <td>1044.079956</td>\n",
              "      <td>2017-01-03</td>\n",
              "    </tr>\n",
              "    <tr>\n",
              "      <th>2017-01-04</th>\n",
              "      <td>1159.420044</td>\n",
              "      <td>2017-01-04</td>\n",
              "    </tr>\n",
              "    <tr>\n",
              "      <th>2017-01-05</th>\n",
              "      <td>1191.099976</td>\n",
              "      <td>2017-01-05</td>\n",
              "    </tr>\n",
              "    <tr>\n",
              "      <th>...</th>\n",
              "      <td>...</td>\n",
              "      <td>...</td>\n",
              "    </tr>\n",
              "    <tr>\n",
              "      <th>2019-10-27</th>\n",
              "      <td>9749.529666</td>\n",
              "      <td>2019-10-27</td>\n",
              "    </tr>\n",
              "    <tr>\n",
              "      <th>2019-10-28</th>\n",
              "      <td>9805.118089</td>\n",
              "      <td>2019-10-28</td>\n",
              "    </tr>\n",
              "    <tr>\n",
              "      <th>2019-10-29</th>\n",
              "      <td>9516.181048</td>\n",
              "      <td>2019-10-29</td>\n",
              "    </tr>\n",
              "    <tr>\n",
              "      <th>2019-10-30</th>\n",
              "      <td>9426.874217</td>\n",
              "      <td>2019-10-30</td>\n",
              "    </tr>\n",
              "    <tr>\n",
              "      <th>2019-10-31</th>\n",
              "      <td>9383.160892</td>\n",
              "      <td>2019-10-31</td>\n",
              "    </tr>\n",
              "  </tbody>\n",
              "</table>\n",
              "<p>1034 rows × 2 columns</p>\n",
              "</div>"
            ],
            "text/plain": [
              "                      y         ds\n",
              "date                              \n",
              "2017-01-01  1003.080017 2017-01-01\n",
              "2017-01-02  1031.390015 2017-01-02\n",
              "2017-01-03  1044.079956 2017-01-03\n",
              "2017-01-04  1159.420044 2017-01-04\n",
              "2017-01-05  1191.099976 2017-01-05\n",
              "...                 ...        ...\n",
              "2019-10-27  9749.529666 2019-10-27\n",
              "2019-10-28  9805.118089 2019-10-28\n",
              "2019-10-29  9516.181048 2019-10-29\n",
              "2019-10-30  9426.874217 2019-10-30\n",
              "2019-10-31  9383.160892 2019-10-31\n",
              "\n",
              "[1034 rows x 2 columns]"
            ]
          },
          "metadata": {
            "tags": []
          },
          "execution_count": 64
        }
      ]
    },
    {
      "cell_type": "code",
      "metadata": {
        "colab": {
          "base_uri": "https://localhost:8080/"
        },
        "id": "d2Y2G8r5SCLA",
        "outputId": "81f07372-a371-4cb5-9480-0e2083566b1e"
      },
      "source": [
        "model2.fit(train2)"
      ],
      "execution_count": null,
      "outputs": [
        {
          "output_type": "stream",
          "text": [
            "INFO:fbprophet:Disabling daily seasonality. Run prophet with daily_seasonality=True to override this.\n"
          ],
          "name": "stderr"
        },
        {
          "output_type": "execute_result",
          "data": {
            "text/plain": [
              "<fbprophet.forecaster.Prophet at 0x7f3b8ea07dd8>"
            ]
          },
          "metadata": {
            "tags": []
          },
          "execution_count": 65
        }
      ]
    },
    {
      "cell_type": "code",
      "metadata": {
        "colab": {
          "base_uri": "https://localhost:8080/",
          "height": 454
        },
        "id": "UZR-woqzSGyu",
        "outputId": "f39394d7-c6f0-45ae-ae9e-6be5053da2db"
      },
      "source": [
        "plt.rcParams['figure.figsize'] = [30, 20]\n",
        "close_prices = model2.make_future_dataframe(periods=len(test2))\n",
        "forecast = model2.predict(close_prices)\n",
        "model2.plot(forecast)\n",
        "\n",
        "plt.title(\"Prediction of Bitcoin Price using Prophet\")\n",
        "plt.xlabel(\"Date\")\n",
        "plt.ylabel(\"Bitcoin Close Price\")\n",
        "plt.show()"
      ],
      "execution_count": null,
      "outputs": [
        {
          "output_type": "display_data",
          "data": {
            "image/png": "[encoded data removed]",
            "text/plain": [
              "<Figure size 720x432 with 1 Axes>"
            ]
          },
          "metadata": {
            "tags": []
          }
        }
      ]
    },
    {
      "cell_type": "code",
      "metadata": {
        "colab": {
          "base_uri": "https://localhost:8080/"
        },
        "id": "e0AVq2B9SmUs",
        "outputId": "26d3bcef-542d-4a42-fba3-9463f6f7aeef"
      },
      "source": [
        "predict_prophet = forecast[forecast['ds'] >= '2019-11-01']['yhat']\n",
        "\n",
        "# rms=np.sqrt(np.mean(np.power((np.array(test2['y'])-np.array(predict_prophet)),2)))\n",
        "# rms\n",
        "\n",
        "print(\"RMSE of Prophet:\", np.sqrt(mean_squared_error(test2['y'], predict_prophet)))\n",
        "\n",
        "print(\"\\nMAE of Prophet:\", mean_absolute_error(np.array(test2['y']), np.array(predict_prophet)))"
      ],
      "execution_count": null,
      "outputs": [
        {
          "output_type": "stream",
          "text": [
            "RMSE of Prophet: 5078.0951156066985\n",
            "\n",
            "MAE of Prophet: 4569.048193384787\n"
          ],
          "name": "stdout"
        }
      ]
    },
    {
      "cell_type": "code",
      "metadata": {
        "colab": {
          "base_uri": "https://localhost:8080/",
          "height": 450
        },
        "id": "cPyYaZb3TmPD",
        "outputId": "cab63e81-af98-4730-a459-c2e54085e164"
      },
      "source": [
        "test2"
      ],
      "execution_count": null,
      "outputs": [
        {
          "output_type": "execute_result",
          "data": {
            "text/html": [
              "<div>\n",
              "<style scoped>\n",
              "    .dataframe tbody tr th:only-of-type {\n",
              "        vertical-align: middle;\n",
              "    }\n",
              "\n",
              "    .dataframe tbody tr th {\n",
              "        vertical-align: top;\n",
              "    }\n",
              "\n",
              "    .dataframe thead th {\n",
              "        text-align: right;\n",
              "    }\n",
              "</style>\n",
              "<table border=\"1\" class=\"dataframe\">\n",
              "  <thead>\n",
              "    <tr style=\"text-align: right;\">\n",
              "      <th></th>\n",
              "      <th>y</th>\n",
              "      <th>ds</th>\n",
              "    </tr>\n",
              "    <tr>\n",
              "      <th>date</th>\n",
              "      <th></th>\n",
              "      <th></th>\n",
              "    </tr>\n",
              "  </thead>\n",
              "  <tbody>\n",
              "    <tr>\n",
              "      <th>2019-11-01</th>\n",
              "      <td>9275.657271</td>\n",
              "      <td>2019-11-01</td>\n",
              "    </tr>\n",
              "    <tr>\n",
              "      <th>2019-11-02</th>\n",
              "      <td>9377.486567</td>\n",
              "      <td>2019-11-02</td>\n",
              "    </tr>\n",
              "    <tr>\n",
              "      <th>2019-11-03</th>\n",
              "      <td>9379.806872</td>\n",
              "      <td>2019-11-03</td>\n",
              "    </tr>\n",
              "    <tr>\n",
              "      <th>2019-11-04</th>\n",
              "      <td>9505.051676</td>\n",
              "      <td>2019-11-04</td>\n",
              "    </tr>\n",
              "    <tr>\n",
              "      <th>2019-11-05</th>\n",
              "      <td>9457.418435</td>\n",
              "      <td>2019-11-05</td>\n",
              "    </tr>\n",
              "    <tr>\n",
              "      <th>...</th>\n",
              "      <td>...</td>\n",
              "      <td>...</td>\n",
              "    </tr>\n",
              "    <tr>\n",
              "      <th>2020-11-29</th>\n",
              "      <td>18283.628173</td>\n",
              "      <td>2020-11-29</td>\n",
              "    </tr>\n",
              "    <tr>\n",
              "      <th>2020-11-30</th>\n",
              "      <td>19749.263694</td>\n",
              "      <td>2020-11-30</td>\n",
              "    </tr>\n",
              "    <tr>\n",
              "      <th>2020-12-01</th>\n",
              "      <td>19845.975483</td>\n",
              "      <td>2020-12-01</td>\n",
              "    </tr>\n",
              "    <tr>\n",
              "      <th>2020-12-02</th>\n",
              "      <td>19308.330663</td>\n",
              "      <td>2020-12-02</td>\n",
              "    </tr>\n",
              "    <tr>\n",
              "      <th>2020-12-03</th>\n",
              "      <td>19566.191884</td>\n",
              "      <td>2020-12-03</td>\n",
              "    </tr>\n",
              "  </tbody>\n",
              "</table>\n",
              "<p>399 rows × 2 columns</p>\n",
              "</div>"
            ],
            "text/plain": [
              "                       y         ds\n",
              "date                               \n",
              "2019-11-01   9275.657271 2019-11-01\n",
              "2019-11-02   9377.486567 2019-11-02\n",
              "2019-11-03   9379.806872 2019-11-03\n",
              "2019-11-04   9505.051676 2019-11-04\n",
              "2019-11-05   9457.418435 2019-11-05\n",
              "...                  ...        ...\n",
              "2020-11-29  18283.628173 2020-11-29\n",
              "2020-11-30  19749.263694 2020-11-30\n",
              "2020-12-01  19845.975483 2020-12-01\n",
              "2020-12-02  19308.330663 2020-12-02\n",
              "2020-12-03  19566.191884 2020-12-03\n",
              "\n",
              "[399 rows x 2 columns]"
            ]
          },
          "metadata": {
            "tags": []
          },
          "execution_count": 69
        }
      ]
    },
    {
      "cell_type": "code",
      "metadata": {
        "colab": {
          "base_uri": "https://localhost:8080/"
        },
        "id": "Ws4_6agqTtcq",
        "outputId": "2dbe64aa-c0af-4a38-df79-8f5572f14711"
      },
      "source": [
        "predict_prophet"
      ],
      "execution_count": null,
      "outputs": [
        {
          "output_type": "execute_result",
          "data": {
            "text/plain": [
              "1034    10111.729328\n",
              "1035    10149.361881\n",
              "1036    10119.787875\n",
              "1037    10134.525537\n",
              "1038    10125.145861\n",
              "            ...     \n",
              "1428    17965.619431\n",
              "1429    18177.594787\n",
              "1430    18383.288934\n",
              "1431    18575.288403\n",
              "1432    18773.748190\n",
              "Name: yhat, Length: 399, dtype: float64"
            ]
          },
          "metadata": {
            "tags": []
          },
          "execution_count": 70
        }
      ]
    },
    {
      "cell_type": "code",
      "metadata": {
        "colab": {
          "base_uri": "https://localhost:8080/",
          "height": 419
        },
        "id": "vaXuSEsyT66D",
        "outputId": "df4be24f-b62e-4701-f3ee-3b1f456eaa63"
      },
      "source": [
        "test2.reset_index(drop=True, inplace=True)\n",
        "predict_prophet.reset_index(drop=True, inplace=True)\n",
        "\n",
        "prophet_result = pd.concat([test2, predict_prophet], axis=1, ignore_index=True)\n",
        "prophet_result"
      ],
      "execution_count": null,
      "outputs": [
        {
          "output_type": "execute_result",
          "data": {
            "text/html": [
              "<div>\n",
              "<style scoped>\n",
              "    .dataframe tbody tr th:only-of-type {\n",
              "        vertical-align: middle;\n",
              "    }\n",
              "\n",
              "    .dataframe tbody tr th {\n",
              "        vertical-align: top;\n",
              "    }\n",
              "\n",
              "    .dataframe thead th {\n",
              "        text-align: right;\n",
              "    }\n",
              "</style>\n",
              "<table border=\"1\" class=\"dataframe\">\n",
              "  <thead>\n",
              "    <tr style=\"text-align: right;\">\n",
              "      <th></th>\n",
              "      <th>0</th>\n",
              "      <th>1</th>\n",
              "      <th>2</th>\n",
              "    </tr>\n",
              "  </thead>\n",
              "  <tbody>\n",
              "    <tr>\n",
              "      <th>0</th>\n",
              "      <td>9275.657271</td>\n",
              "      <td>2019-11-01</td>\n",
              "      <td>10111.729328</td>\n",
              "    </tr>\n",
              "    <tr>\n",
              "      <th>1</th>\n",
              "      <td>9377.486567</td>\n",
              "      <td>2019-11-02</td>\n",
              "      <td>10149.361881</td>\n",
              "    </tr>\n",
              "    <tr>\n",
              "      <th>2</th>\n",
              "      <td>9379.806872</td>\n",
              "      <td>2019-11-03</td>\n",
              "      <td>10119.787875</td>\n",
              "    </tr>\n",
              "    <tr>\n",
              "      <th>3</th>\n",
              "      <td>9505.051676</td>\n",
              "      <td>2019-11-04</td>\n",
              "      <td>10134.525537</td>\n",
              "    </tr>\n",
              "    <tr>\n",
              "      <th>4</th>\n",
              "      <td>9457.418435</td>\n",
              "      <td>2019-11-05</td>\n",
              "      <td>10125.145861</td>\n",
              "    </tr>\n",
              "    <tr>\n",
              "      <th>...</th>\n",
              "      <td>...</td>\n",
              "      <td>...</td>\n",
              "      <td>...</td>\n",
              "    </tr>\n",
              "    <tr>\n",
              "      <th>394</th>\n",
              "      <td>18283.628173</td>\n",
              "      <td>2020-11-29</td>\n",
              "      <td>17965.619431</td>\n",
              "    </tr>\n",
              "    <tr>\n",
              "      <th>395</th>\n",
              "      <td>19749.263694</td>\n",
              "      <td>2020-11-30</td>\n",
              "      <td>18177.594787</td>\n",
              "    </tr>\n",
              "    <tr>\n",
              "      <th>396</th>\n",
              "      <td>19845.975483</td>\n",
              "      <td>2020-12-01</td>\n",
              "      <td>18383.288934</td>\n",
              "    </tr>\n",
              "    <tr>\n",
              "      <th>397</th>\n",
              "      <td>19308.330663</td>\n",
              "      <td>2020-12-02</td>\n",
              "      <td>18575.288403</td>\n",
              "    </tr>\n",
              "    <tr>\n",
              "      <th>398</th>\n",
              "      <td>19566.191884</td>\n",
              "      <td>2020-12-03</td>\n",
              "      <td>18773.748190</td>\n",
              "    </tr>\n",
              "  </tbody>\n",
              "</table>\n",
              "<p>399 rows × 3 columns</p>\n",
              "</div>"
            ],
            "text/plain": [
              "                0          1             2\n",
              "0     9275.657271 2019-11-01  10111.729328\n",
              "1     9377.486567 2019-11-02  10149.361881\n",
              "2     9379.806872 2019-11-03  10119.787875\n",
              "3     9505.051676 2019-11-04  10134.525537\n",
              "4     9457.418435 2019-11-05  10125.145861\n",
              "..            ...        ...           ...\n",
              "394  18283.628173 2020-11-29  17965.619431\n",
              "395  19749.263694 2020-11-30  18177.594787\n",
              "396  19845.975483 2020-12-01  18383.288934\n",
              "397  19308.330663 2020-12-02  18575.288403\n",
              "398  19566.191884 2020-12-03  18773.748190\n",
              "\n",
              "[399 rows x 3 columns]"
            ]
          },
          "metadata": {
            "tags": []
          },
          "execution_count": 71
        }
      ]
    },
    {
      "cell_type": "code",
      "metadata": {
        "id": "AGy3qOWAUrn_"
      },
      "source": [
        "prophet_result.columns = ['close', 'date', 'prophet_predict']"
      ],
      "execution_count": null,
      "outputs": []
    },
    {
      "cell_type": "code",
      "metadata": {
        "colab": {
          "base_uri": "https://localhost:8080/",
          "height": 450
        },
        "id": "SilVuUvGU2-j",
        "outputId": "ea4e7c19-077a-404e-807f-a5b0a470d21a"
      },
      "source": [
        "prophet_result.index = prophet_result['date']\n",
        "prophet_result"
      ],
      "execution_count": null,
      "outputs": [
        {
          "output_type": "execute_result",
          "data": {
            "text/html": [
              "<div>\n",
              "<style scoped>\n",
              "    .dataframe tbody tr th:only-of-type {\n",
              "        vertical-align: middle;\n",
              "    }\n",
              "\n",
              "    .dataframe tbody tr th {\n",
              "        vertical-align: top;\n",
              "    }\n",
              "\n",
              "    .dataframe thead th {\n",
              "        text-align: right;\n",
              "    }\n",
              "</style>\n",
              "<table border=\"1\" class=\"dataframe\">\n",
              "  <thead>\n",
              "    <tr style=\"text-align: right;\">\n",
              "      <th></th>\n",
              "      <th>close</th>\n",
              "      <th>date</th>\n",
              "      <th>prophet_predict</th>\n",
              "    </tr>\n",
              "    <tr>\n",
              "      <th>date</th>\n",
              "      <th></th>\n",
              "      <th></th>\n",
              "      <th></th>\n",
              "    </tr>\n",
              "  </thead>\n",
              "  <tbody>\n",
              "    <tr>\n",
              "      <th>2019-11-01</th>\n",
              "      <td>9275.657271</td>\n",
              "      <td>2019-11-01</td>\n",
              "      <td>10111.729328</td>\n",
              "    </tr>\n",
              "    <tr>\n",
              "      <th>2019-11-02</th>\n",
              "      <td>9377.486567</td>\n",
              "      <td>2019-11-02</td>\n",
              "      <td>10149.361881</td>\n",
              "    </tr>\n",
              "    <tr>\n",
              "      <th>2019-11-03</th>\n",
              "      <td>9379.806872</td>\n",
              "      <td>2019-11-03</td>\n",
              "      <td>10119.787875</td>\n",
              "    </tr>\n",
              "    <tr>\n",
              "      <th>2019-11-04</th>\n",
              "      <td>9505.051676</td>\n",
              "      <td>2019-11-04</td>\n",
              "      <td>10134.525537</td>\n",
              "    </tr>\n",
              "    <tr>\n",
              "      <th>2019-11-05</th>\n",
              "      <td>9457.418435</td>\n",
              "      <td>2019-11-05</td>\n",
              "      <td>10125.145861</td>\n",
              "    </tr>\n",
              "    <tr>\n",
              "      <th>...</th>\n",
              "      <td>...</td>\n",
              "      <td>...</td>\n",
              "      <td>...</td>\n",
              "    </tr>\n",
              "    <tr>\n",
              "      <th>2020-11-29</th>\n",
              "      <td>18283.628173</td>\n",
              "      <td>2020-11-29</td>\n",
              "      <td>17965.619431</td>\n",
              "    </tr>\n",
              "    <tr>\n",
              "      <th>2020-11-30</th>\n",
              "      <td>19749.263694</td>\n",
              "      <td>2020-11-30</td>\n",
              "      <td>18177.594787</td>\n",
              "    </tr>\n",
              "    <tr>\n",
              "      <th>2020-12-01</th>\n",
              "      <td>19845.975483</td>\n",
              "      <td>2020-12-01</td>\n",
              "      <td>18383.288934</td>\n",
              "    </tr>\n",
              "    <tr>\n",
              "      <th>2020-12-02</th>\n",
              "      <td>19308.330663</td>\n",
              "      <td>2020-12-02</td>\n",
              "      <td>18575.288403</td>\n",
              "    </tr>\n",
              "    <tr>\n",
              "      <th>2020-12-03</th>\n",
              "      <td>19566.191884</td>\n",
              "      <td>2020-12-03</td>\n",
              "      <td>18773.748190</td>\n",
              "    </tr>\n",
              "  </tbody>\n",
              "</table>\n",
              "<p>399 rows × 3 columns</p>\n",
              "</div>"
            ],
            "text/plain": [
              "                   close       date  prophet_predict\n",
              "date                                                \n",
              "2019-11-01   9275.657271 2019-11-01     10111.729328\n",
              "2019-11-02   9377.486567 2019-11-02     10149.361881\n",
              "2019-11-03   9379.806872 2019-11-03     10119.787875\n",
              "2019-11-04   9505.051676 2019-11-04     10134.525537\n",
              "2019-11-05   9457.418435 2019-11-05     10125.145861\n",
              "...                  ...        ...              ...\n",
              "2020-11-29  18283.628173 2020-11-29     17965.619431\n",
              "2020-11-30  19749.263694 2020-11-30     18177.594787\n",
              "2020-12-01  19845.975483 2020-12-01     18383.288934\n",
              "2020-12-02  19308.330663 2020-12-02     18575.288403\n",
              "2020-12-03  19566.191884 2020-12-03     18773.748190\n",
              "\n",
              "[399 rows x 3 columns]"
            ]
          },
          "metadata": {
            "tags": []
          },
          "execution_count": 73
        }
      ]
    },
    {
      "cell_type": "code",
      "metadata": {
        "colab": {
          "base_uri": "https://localhost:8080/",
          "height": 522
        },
        "id": "4raoHNDhVB_O",
        "outputId": "da724b67-5467-4617-e233-a69efe85b68d"
      },
      "source": [
        "prophet_result[['close', 'prophet_predict']].plot(figsize=(14,7))"
      ],
      "execution_count": null,
      "outputs": [
        {
          "output_type": "execute_result",
          "data": {
            "text/plain": [
              "<matplotlib.axes._subplots.AxesSubplot at 0x7f3b8c6a38d0>"
            ]
          },
          "metadata": {
            "tags": []
          },
          "execution_count": 74
        },
        {
          "output_type": "display_data",
          "data": {
            "image/png": "[encoded data removed]",
            "text/plain": [
              "<Figure size 1008x504 with 1 Axes>"
            ]
          },
          "metadata": {
            "tags": []
          }
        }
      ]
    },
    {
      "cell_type": "markdown",
      "metadata": {
        "id": "uTv1bMXoplf7"
      },
      "source": [
        "# **GRU Model**"
      ]
    },
    {
      "cell_type": "code",
      "metadata": {
        "colab": {
          "base_uri": "https://localhost:8080/"
        },
        "id": "iGFRD7okqoDI",
        "outputId": "0b8024a4-b9aa-4747-fae0-e288d7528191"
      },
      "source": [
        "import tensorflow as tf\n",
        "import os\n",
        "import pandas as pd\n",
        "import numpy as np\n",
        "\n",
        "from sklearn.preprocessing import MinMaxScaler\n",
        "from sklearn.metrics import mean_squared_error, accuracy_score\n",
        "\n",
        "from keras.models import Sequential\n",
        "from keras.layers import LSTM, Dense, Activation, Dropout, BatchNormalization, LeakyReLU, GRU\n",
        "from keras.optimizers import SGD, Adagrad, RMSprop, Adam, Adadelta, Nadam\n",
        "\n",
        "import matplotlib.pyplot as plt\n",
        "import math\n",
        "\n",
        "#import talib\n",
        "\n",
        "\n",
        "\n",
        "# os.environ['CUDA_DEVICE_ORDER'] = 'PCI_BUS_ID'\n",
        "# os.environ['CUDA_VISIBLE_DEVICES'] = '1'\n",
        "# os.environ['TF_CPP_MIN_LOG_LEVEL']='2'\n",
        "\n",
        "# config = tf.compat.v1.ConfigProto()\n",
        "# config.gpu_options.allow_growth = True\n",
        "# set_session(tf.compat.v1.Session(config=config))\n",
        "\n",
        "# with h5py.File(''.join(['bitcoin2015to2017_close.h5']), 'r') as hf:\n",
        "#     datas = hf['inputs'].value\n",
        "#     labels = hf['outputs'].value\n",
        "\n",
        "\n",
        "# output_file_name='bitcoin2015to2017_close_GRU_1_tanh_relu_'\n",
        "\n",
        "# step_size = 1\n",
        "# units= 50\n",
        "# batch_size = 8\n",
        "# nb_features = data.shape[1]\n",
        "# epochs = 100\n",
        "# output_size=2\n",
        "#split training validation\n",
        "training_size = len(data['2013-04-28': '2020-07-31'])\n",
        "training_set = data.iloc[:2652, 3:4].values\n",
        "test_set = data.iloc[2652:, 3:4].values\n",
        "sc = MinMaxScaler(feature_range = (-5, 5))\n",
        "training_set_scaled = sc.fit_transform(training_set)\n",
        "testing_set_scaled = sc.fit_transform(test_set)\n",
        "\n",
        "# labels = data.close\n",
        "# data1 = data.drop(columns=['close'])\n",
        "# training_size = len(data1['2013-04-28': '2020-07-31'])\n",
        "# training_datas = data1['2013-04-28': '2020-07-31']\n",
        "# training_labels = labels[:training_size]\n",
        "# validation_datas = data1['2020-08-01': '2020-12-04']\n",
        "# validation_labels = labels[training_size:]\n",
        "\n",
        "look_back = 1\n",
        "\n",
        "def create_dataset(dataset, look_back=14):\n",
        "    dataX, dataY = [], []\n",
        "    for i in range(len(dataset)-look_back-1):\n",
        "        a = dataset[i:(i + look_back)]\n",
        "        dataX.append(a)\n",
        "        dataY.append(dataset[i + look_back])\n",
        "    return np.array(dataX), np.array(dataY)\n",
        "\n",
        "trainX, trainY = create_dataset(training_set_scaled, look_back)\n",
        "testX, testY = create_dataset(testing_set_scaled, look_back)\n",
        "\n",
        "trainX = np.reshape(trainX, (trainX.shape[0], 1, trainX.shape[1]))\n",
        "testX = np.reshape(testX, (testX.shape[0], 1, testX.shape[1]))\n",
        "print(trainX.shape)\n",
        "print(testX.shape)\n",
        "\n",
        "\n",
        "\n"
      ],
      "execution_count": null,
      "outputs": [
        {
          "output_type": "stream",
          "text": [
            "(2650, 1, 1)\n",
            "(124, 1, 1)\n"
          ],
          "name": "stdout"
        }
      ]
    },
    {
      "cell_type": "code",
      "metadata": {
        "id": "tfCbnFl1ESk1",
        "colab": {
          "base_uri": "https://localhost:8080/"
        },
        "outputId": "41969f65-28c1-45b8-d4c4-5b64da1e5926"
      },
      "source": [
        "# LSTM \n",
        "model = Sequential()\n",
        "model.add(GRU(200, input_shape=(1, look_back), return_sequences=True))\n",
        "#model.add(Dropout(0.2))\n",
        "model.add(LSTM(200))\n",
        "model.add(Dropout(0.5))\n",
        "model.add(Dense(1))\n",
        "'''\n",
        "model = Sequential()\n",
        "model.add(CuDNNLSTM(200, input_shape=(1, look_back)))\n",
        "#model.add(Dropout(0.2)) #오버피팅을 막고자 일부를 버림\n",
        "#model.add(BatchNormalization())\n",
        "model.add(Dense(1))\n",
        "#model.add(Dense(1, activation='relu'))\n",
        "'''\n",
        "# \n",
        "opt = Adam(lr=0.0005)\n",
        "\n",
        "model.compile(loss='mean_squared_error', optimizer=opt)\n",
        "#model.compile(loss='mean_squared_error', optimizer='nadam', metrics=['accuracy'])\n",
        "\n",
        "history = model.fit(\n",
        "    trainX, trainY,\n",
        "    epochs=200,\n",
        "    batch_size=128,\n",
        "    validation_data = (testX, testY),\n",
        "    verbose=1)"
      ],
      "execution_count": null,
      "outputs": [
        {
          "output_type": "stream",
          "text": [
            "Epoch 1/200\n",
            "21/21 [==============================] - 1s 29ms/step - loss: 11.0732 - val_loss: 6.0554\n",
            "Epoch 2/200\n",
            "21/21 [==============================] - 0s 4ms/step - loss: 2.5798 - val_loss: 1.1525\n",
            "Epoch 3/200\n",
            "21/21 [==============================] - 0s 4ms/step - loss: 0.3730 - val_loss: 1.0796\n",
            "Epoch 4/200\n",
            "21/21 [==============================] - 0s 4ms/step - loss: 0.2139 - val_loss: 1.0571\n",
            "Epoch 5/200\n",
            "21/21 [==============================] - 0s 5ms/step - loss: 0.1941 - val_loss: 1.0339\n",
            "Epoch 6/200\n",
            "21/21 [==============================] - 0s 5ms/step - loss: 0.1877 - val_loss: 1.0107\n",
            "Epoch 7/200\n",
            "21/21 [==============================] - 0s 4ms/step - loss: 0.1802 - val_loss: 0.9858\n",
            "Epoch 8/200\n",
            "21/21 [==============================] - 0s 4ms/step - loss: 0.1747 - val_loss: 0.9571\n",
            "Epoch 9/200\n",
            "21/21 [==============================] - 0s 4ms/step - loss: 0.1721 - val_loss: 0.9298\n",
            "Epoch 10/200\n",
            "21/21 [==============================] - 0s 4ms/step - loss: 0.1682 - val_loss: 0.9012\n",
            "Epoch 11/200\n",
            "21/21 [==============================] - 0s 5ms/step - loss: 0.1580 - val_loss: 0.8705\n",
            "Epoch 12/200\n",
            "21/21 [==============================] - 0s 5ms/step - loss: 0.1553 - val_loss: 0.8329\n",
            "Epoch 13/200\n",
            "21/21 [==============================] - 0s 4ms/step - loss: 0.1519 - val_loss: 0.8011\n",
            "Epoch 14/200\n",
            "21/21 [==============================] - 0s 4ms/step - loss: 0.1486 - val_loss: 0.7629\n",
            "Epoch 15/200\n",
            "21/21 [==============================] - 0s 4ms/step - loss: 0.1424 - val_loss: 0.7270\n",
            "Epoch 16/200\n",
            "21/21 [==============================] - 0s 4ms/step - loss: 0.1316 - val_loss: 0.6918\n",
            "Epoch 17/200\n",
            "21/21 [==============================] - 0s 5ms/step - loss: 0.1373 - val_loss: 0.6515\n",
            "Epoch 18/200\n",
            "21/21 [==============================] - 0s 4ms/step - loss: 0.1333 - val_loss: 0.6201\n",
            "Epoch 19/200\n",
            "21/21 [==============================] - 0s 4ms/step - loss: 0.1280 - val_loss: 0.5820\n",
            "Epoch 20/200\n",
            "21/21 [==============================] - 0s 4ms/step - loss: 0.1209 - val_loss: 0.5476\n",
            "Epoch 21/200\n",
            "21/21 [==============================] - 0s 5ms/step - loss: 0.1183 - val_loss: 0.5116\n",
            "Epoch 22/200\n",
            "21/21 [==============================] - 0s 4ms/step - loss: 0.1145 - val_loss: 0.4821\n",
            "Epoch 23/200\n",
            "21/21 [==============================] - 0s 4ms/step - loss: 0.1152 - val_loss: 0.4578\n",
            "Epoch 24/200\n",
            "21/21 [==============================] - 0s 5ms/step - loss: 0.1106 - val_loss: 0.4224\n",
            "Epoch 25/200\n",
            "21/21 [==============================] - 0s 4ms/step - loss: 0.1110 - val_loss: 0.4046\n",
            "Epoch 26/200\n",
            "21/21 [==============================] - 0s 5ms/step - loss: 0.1102 - val_loss: 0.3841\n",
            "Epoch 27/200\n",
            "21/21 [==============================] - 0s 4ms/step - loss: 0.1102 - val_loss: 0.3695\n",
            "Epoch 28/200\n",
            "21/21 [==============================] - 0s 4ms/step - loss: 0.1121 - val_loss: 0.3498\n",
            "Epoch 29/200\n",
            "21/21 [==============================] - 0s 4ms/step - loss: 0.1040 - val_loss: 0.3337\n",
            "Epoch 30/200\n",
            "21/21 [==============================] - 0s 5ms/step - loss: 0.1028 - val_loss: 0.3268\n",
            "Epoch 31/200\n",
            "21/21 [==============================] - 0s 5ms/step - loss: 0.1053 - val_loss: 0.3135\n",
            "Epoch 32/200\n",
            "21/21 [==============================] - 0s 5ms/step - loss: 0.1001 - val_loss: 0.3030\n",
            "Epoch 33/200\n",
            "21/21 [==============================] - 0s 4ms/step - loss: 0.1000 - val_loss: 0.3000\n",
            "Epoch 34/200\n",
            "21/21 [==============================] - 0s 4ms/step - loss: 0.0980 - val_loss: 0.2921\n",
            "Epoch 35/200\n",
            "21/21 [==============================] - 0s 4ms/step - loss: 0.1038 - val_loss: 0.2879\n",
            "Epoch 36/200\n",
            "21/21 [==============================] - 0s 5ms/step - loss: 0.1013 - val_loss: 0.2841\n",
            "Epoch 37/200\n",
            "21/21 [==============================] - 0s 4ms/step - loss: 0.1069 - val_loss: 0.2802\n",
            "Epoch 38/200\n",
            "21/21 [==============================] - 0s 5ms/step - loss: 0.1002 - val_loss: 0.2811\n",
            "Epoch 39/200\n",
            "21/21 [==============================] - 0s 4ms/step - loss: 0.1024 - val_loss: 0.2783\n",
            "Epoch 40/200\n",
            "21/21 [==============================] - 0s 4ms/step - loss: 0.1018 - val_loss: 0.2803\n",
            "Epoch 41/200\n",
            "21/21 [==============================] - 0s 4ms/step - loss: 0.0934 - val_loss: 0.2725\n",
            "Epoch 42/200\n",
            "21/21 [==============================] - 0s 4ms/step - loss: 0.0990 - val_loss: 0.2711\n",
            "Epoch 43/200\n",
            "21/21 [==============================] - 0s 4ms/step - loss: 0.1002 - val_loss: 0.2716\n",
            "Epoch 44/200\n",
            "21/21 [==============================] - 0s 5ms/step - loss: 0.0993 - val_loss: 0.2638\n",
            "Epoch 45/200\n",
            "21/21 [==============================] - 0s 5ms/step - loss: 0.0916 - val_loss: 0.2609\n",
            "Epoch 46/200\n",
            "21/21 [==============================] - 0s 4ms/step - loss: 0.0993 - val_loss: 0.2553\n",
            "Epoch 47/200\n",
            "21/21 [==============================] - 0s 4ms/step - loss: 0.0995 - val_loss: 0.2553\n",
            "Epoch 48/200\n",
            "21/21 [==============================] - 0s 4ms/step - loss: 0.0995 - val_loss: 0.2548\n",
            "Epoch 49/200\n",
            "21/21 [==============================] - 0s 4ms/step - loss: 0.0964 - val_loss: 0.2500\n",
            "Epoch 50/200\n",
            "21/21 [==============================] - 0s 5ms/step - loss: 0.0965 - val_loss: 0.2550\n",
            "Epoch 51/200\n",
            "21/21 [==============================] - 0s 5ms/step - loss: 0.0965 - val_loss: 0.2468\n",
            "Epoch 52/200\n",
            "21/21 [==============================] - 0s 4ms/step - loss: 0.0944 - val_loss: 0.2385\n",
            "Epoch 53/200\n",
            "21/21 [==============================] - 0s 4ms/step - loss: 0.0976 - val_loss: 0.2345\n",
            "Epoch 54/200\n",
            "21/21 [==============================] - 0s 4ms/step - loss: 0.0955 - val_loss: 0.2388\n",
            "Epoch 55/200\n",
            "21/21 [==============================] - 0s 5ms/step - loss: 0.0941 - val_loss: 0.2343\n",
            "Epoch 56/200\n",
            "21/21 [==============================] - 0s 5ms/step - loss: 0.0959 - val_loss: 0.2289\n",
            "Epoch 57/200\n",
            "21/21 [==============================] - 0s 4ms/step - loss: 0.0976 - val_loss: 0.2290\n",
            "Epoch 58/200\n",
            "21/21 [==============================] - 0s 4ms/step - loss: 0.0929 - val_loss: 0.2212\n",
            "Epoch 59/200\n",
            "21/21 [==============================] - 0s 5ms/step - loss: 0.0973 - val_loss: 0.2323\n",
            "Epoch 60/200\n",
            "21/21 [==============================] - 0s 5ms/step - loss: 0.0955 - val_loss: 0.2288\n",
            "Epoch 61/200\n",
            "21/21 [==============================] - 0s 5ms/step - loss: 0.0976 - val_loss: 0.2225\n",
            "Epoch 62/200\n",
            "21/21 [==============================] - 0s 5ms/step - loss: 0.1012 - val_loss: 0.2199\n",
            "Epoch 63/200\n",
            "21/21 [==============================] - 0s 4ms/step - loss: 0.0953 - val_loss: 0.2235\n",
            "Epoch 64/200\n",
            "21/21 [==============================] - 0s 4ms/step - loss: 0.0933 - val_loss: 0.2138\n",
            "Epoch 65/200\n",
            "21/21 [==============================] - 0s 4ms/step - loss: 0.0903 - val_loss: 0.2129\n",
            "Epoch 66/200\n",
            "21/21 [==============================] - 0s 4ms/step - loss: 0.0955 - val_loss: 0.2140\n",
            "Epoch 67/200\n",
            "21/21 [==============================] - 0s 4ms/step - loss: 0.0966 - val_loss: 0.2083\n",
            "Epoch 68/200\n",
            "21/21 [==============================] - 0s 4ms/step - loss: 0.0885 - val_loss: 0.2064\n",
            "Epoch 69/200\n",
            "21/21 [==============================] - 0s 4ms/step - loss: 0.0943 - val_loss: 0.2120\n",
            "Epoch 70/200\n",
            "21/21 [==============================] - 0s 5ms/step - loss: 0.0960 - val_loss: 0.2057\n",
            "Epoch 71/200\n",
            "21/21 [==============================] - 0s 5ms/step - loss: 0.0935 - val_loss: 0.2069\n",
            "Epoch 72/200\n",
            "21/21 [==============================] - 0s 4ms/step - loss: 0.0939 - val_loss: 0.2047\n",
            "Epoch 73/200\n",
            "21/21 [==============================] - 0s 5ms/step - loss: 0.0935 - val_loss: 0.1982\n",
            "Epoch 74/200\n",
            "21/21 [==============================] - 0s 4ms/step - loss: 0.0941 - val_loss: 0.2042\n",
            "Epoch 75/200\n",
            "21/21 [==============================] - 0s 5ms/step - loss: 0.0941 - val_loss: 0.2053\n",
            "Epoch 76/200\n",
            "21/21 [==============================] - 0s 4ms/step - loss: 0.0925 - val_loss: 0.1952\n",
            "Epoch 77/200\n",
            "21/21 [==============================] - 0s 4ms/step - loss: 0.0898 - val_loss: 0.2019\n",
            "Epoch 78/200\n",
            "21/21 [==============================] - 0s 4ms/step - loss: 0.0898 - val_loss: 0.1938\n",
            "Epoch 79/200\n",
            "21/21 [==============================] - 0s 4ms/step - loss: 0.0911 - val_loss: 0.1948\n",
            "Epoch 80/200\n",
            "21/21 [==============================] - 0s 5ms/step - loss: 0.0930 - val_loss: 0.1938\n",
            "Epoch 81/200\n",
            "21/21 [==============================] - 0s 5ms/step - loss: 0.0959 - val_loss: 0.1908\n",
            "Epoch 82/200\n",
            "21/21 [==============================] - 0s 5ms/step - loss: 0.0930 - val_loss: 0.1914\n",
            "Epoch 83/200\n",
            "21/21 [==============================] - 0s 5ms/step - loss: 0.0904 - val_loss: 0.1887\n",
            "Epoch 84/200\n",
            "21/21 [==============================] - 0s 5ms/step - loss: 0.0860 - val_loss: 0.1882\n",
            "Epoch 85/200\n",
            "21/21 [==============================] - 0s 5ms/step - loss: 0.0915 - val_loss: 0.1879\n",
            "Epoch 86/200\n",
            "21/21 [==============================] - 0s 5ms/step - loss: 0.0932 - val_loss: 0.1820\n",
            "Epoch 87/200\n",
            "21/21 [==============================] - 0s 4ms/step - loss: 0.0918 - val_loss: 0.1831\n",
            "Epoch 88/200\n",
            "21/21 [==============================] - 0s 4ms/step - loss: 0.0917 - val_loss: 0.1857\n",
            "Epoch 89/200\n",
            "21/21 [==============================] - 0s 5ms/step - loss: 0.0906 - val_loss: 0.1840\n",
            "Epoch 90/200\n",
            "21/21 [==============================] - 0s 5ms/step - loss: 0.0895 - val_loss: 0.1862\n",
            "Epoch 91/200\n",
            "21/21 [==============================] - 0s 6ms/step - loss: 0.0888 - val_loss: 0.1928\n",
            "Epoch 92/200\n",
            "21/21 [==============================] - 0s 5ms/step - loss: 0.0890 - val_loss: 0.1860\n",
            "Epoch 93/200\n",
            "21/21 [==============================] - 0s 4ms/step - loss: 0.0904 - val_loss: 0.1828\n",
            "Epoch 94/200\n",
            "21/21 [==============================] - 0s 4ms/step - loss: 0.0934 - val_loss: 0.1835\n",
            "Epoch 95/200\n",
            "21/21 [==============================] - 0s 5ms/step - loss: 0.0916 - val_loss: 0.1788\n",
            "Epoch 96/200\n",
            "21/21 [==============================] - 0s 4ms/step - loss: 0.0920 - val_loss: 0.1878\n",
            "Epoch 97/200\n",
            "21/21 [==============================] - 0s 4ms/step - loss: 0.0941 - val_loss: 0.1859\n",
            "Epoch 98/200\n",
            "21/21 [==============================] - 0s 4ms/step - loss: 0.0917 - val_loss: 0.1852\n",
            "Epoch 99/200\n",
            "21/21 [==============================] - 0s 4ms/step - loss: 0.0931 - val_loss: 0.1799\n",
            "Epoch 100/200\n",
            "21/21 [==============================] - 0s 4ms/step - loss: 0.0902 - val_loss: 0.1806\n",
            "Epoch 101/200\n",
            "21/21 [==============================] - 0s 5ms/step - loss: 0.0938 - val_loss: 0.1863\n",
            "Epoch 102/200\n",
            "21/21 [==============================] - 0s 4ms/step - loss: 0.0893 - val_loss: 0.1804\n",
            "Epoch 103/200\n",
            "21/21 [==============================] - 0s 4ms/step - loss: 0.0881 - val_loss: 0.1787\n",
            "Epoch 104/200\n",
            "21/21 [==============================] - 0s 4ms/step - loss: 0.0874 - val_loss: 0.1776\n",
            "Epoch 105/200\n",
            "21/21 [==============================] - 0s 4ms/step - loss: 0.0903 - val_loss: 0.1789\n",
            "Epoch 106/200\n",
            "21/21 [==============================] - 0s 4ms/step - loss: 0.0841 - val_loss: 0.1795\n",
            "Epoch 107/200\n",
            "21/21 [==============================] - 0s 5ms/step - loss: 0.0872 - val_loss: 0.1755\n",
            "Epoch 108/200\n",
            "21/21 [==============================] - 0s 5ms/step - loss: 0.0861 - val_loss: 0.1770\n",
            "Epoch 109/200\n",
            "21/21 [==============================] - 0s 4ms/step - loss: 0.0970 - val_loss: 0.1801\n",
            "Epoch 110/200\n",
            "21/21 [==============================] - 0s 5ms/step - loss: 0.0880 - val_loss: 0.1782\n",
            "Epoch 111/200\n",
            "21/21 [==============================] - 0s 5ms/step - loss: 0.0874 - val_loss: 0.1840\n",
            "Epoch 112/200\n",
            "21/21 [==============================] - 0s 5ms/step - loss: 0.0885 - val_loss: 0.1767\n",
            "Epoch 113/200\n",
            "21/21 [==============================] - 0s 4ms/step - loss: 0.0937 - val_loss: 0.1733\n",
            "Epoch 114/200\n",
            "21/21 [==============================] - 0s 4ms/step - loss: 0.0890 - val_loss: 0.1781\n",
            "Epoch 115/200\n",
            "21/21 [==============================] - 0s 5ms/step - loss: 0.0881 - val_loss: 0.1817\n",
            "Epoch 116/200\n",
            "21/21 [==============================] - 0s 4ms/step - loss: 0.0867 - val_loss: 0.1787\n",
            "Epoch 117/200\n",
            "21/21 [==============================] - 0s 4ms/step - loss: 0.0880 - val_loss: 0.1797\n",
            "Epoch 118/200\n",
            "21/21 [==============================] - 0s 5ms/step - loss: 0.0879 - val_loss: 0.1820\n",
            "Epoch 119/200\n",
            "21/21 [==============================] - 0s 4ms/step - loss: 0.0880 - val_loss: 0.1805\n",
            "Epoch 120/200\n",
            "21/21 [==============================] - 0s 5ms/step - loss: 0.0904 - val_loss: 0.1781\n",
            "Epoch 121/200\n",
            "21/21 [==============================] - 0s 5ms/step - loss: 0.0905 - val_loss: 0.1771\n",
            "Epoch 122/200\n",
            "21/21 [==============================] - 0s 5ms/step - loss: 0.0897 - val_loss: 0.1786\n",
            "Epoch 123/200\n",
            "21/21 [==============================] - 0s 5ms/step - loss: 0.0897 - val_loss: 0.1790\n",
            "Epoch 124/200\n",
            "21/21 [==============================] - 0s 4ms/step - loss: 0.0828 - val_loss: 0.1790\n",
            "Epoch 125/200\n",
            "21/21 [==============================] - 0s 5ms/step - loss: 0.0858 - val_loss: 0.1755\n",
            "Epoch 126/200\n",
            "21/21 [==============================] - 0s 5ms/step - loss: 0.0899 - val_loss: 0.1744\n",
            "Epoch 127/200\n",
            "21/21 [==============================] - 0s 5ms/step - loss: 0.0863 - val_loss: 0.1756\n",
            "Epoch 128/200\n",
            "21/21 [==============================] - 0s 5ms/step - loss: 0.0887 - val_loss: 0.1758\n",
            "Epoch 129/200\n",
            "21/21 [==============================] - 0s 7ms/step - loss: 0.0888 - val_loss: 0.1777\n",
            "Epoch 130/200\n",
            "21/21 [==============================] - 0s 5ms/step - loss: 0.0864 - val_loss: 0.1776\n",
            "Epoch 131/200\n",
            "21/21 [==============================] - 0s 4ms/step - loss: 0.0866 - val_loss: 0.1798\n",
            "Epoch 132/200\n",
            "21/21 [==============================] - 0s 5ms/step - loss: 0.0901 - val_loss: 0.1767\n",
            "Epoch 133/200\n",
            "21/21 [==============================] - 0s 5ms/step - loss: 0.0835 - val_loss: 0.1754\n",
            "Epoch 134/200\n",
            "21/21 [==============================] - 0s 4ms/step - loss: 0.0882 - val_loss: 0.1772\n",
            "Epoch 135/200\n",
            "21/21 [==============================] - 0s 5ms/step - loss: 0.0924 - val_loss: 0.1738\n",
            "Epoch 136/200\n",
            "21/21 [==============================] - 0s 5ms/step - loss: 0.0885 - val_loss: 0.1769\n",
            "Epoch 137/200\n",
            "21/21 [==============================] - 0s 4ms/step - loss: 0.0899 - val_loss: 0.1813\n",
            "Epoch 138/200\n",
            "21/21 [==============================] - 0s 4ms/step - loss: 0.0864 - val_loss: 0.1812\n",
            "Epoch 139/200\n",
            "21/21 [==============================] - 0s 5ms/step - loss: 0.0865 - val_loss: 0.1768\n",
            "Epoch 140/200\n",
            "21/21 [==============================] - 0s 5ms/step - loss: 0.0880 - val_loss: 0.1780\n",
            "Epoch 141/200\n",
            "21/21 [==============================] - 0s 5ms/step - loss: 0.0890 - val_loss: 0.1746\n",
            "Epoch 142/200\n",
            "21/21 [==============================] - 0s 5ms/step - loss: 0.0872 - val_loss: 0.1768\n",
            "Epoch 143/200\n",
            "21/21 [==============================] - 0s 5ms/step - loss: 0.0906 - val_loss: 0.1798\n",
            "Epoch 144/200\n",
            "21/21 [==============================] - 0s 4ms/step - loss: 0.0857 - val_loss: 0.1763\n",
            "Epoch 145/200\n",
            "21/21 [==============================] - 0s 5ms/step - loss: 0.0891 - val_loss: 0.1758\n",
            "Epoch 146/200\n",
            "21/21 [==============================] - 0s 5ms/step - loss: 0.0889 - val_loss: 0.1769\n",
            "Epoch 147/200\n",
            "21/21 [==============================] - 0s 4ms/step - loss: 0.0895 - val_loss: 0.1786\n",
            "Epoch 148/200\n",
            "21/21 [==============================] - 0s 5ms/step - loss: 0.0875 - val_loss: 0.1785\n",
            "Epoch 149/200\n",
            "21/21 [==============================] - 0s 5ms/step - loss: 0.0892 - val_loss: 0.1793\n",
            "Epoch 150/200\n",
            "21/21 [==============================] - 0s 5ms/step - loss: 0.0887 - val_loss: 0.1778\n",
            "Epoch 151/200\n",
            "21/21 [==============================] - 0s 4ms/step - loss: 0.0851 - val_loss: 0.1760\n",
            "Epoch 152/200\n",
            "21/21 [==============================] - 0s 5ms/step - loss: 0.0877 - val_loss: 0.1764\n",
            "Epoch 153/200\n",
            "21/21 [==============================] - 0s 4ms/step - loss: 0.0944 - val_loss: 0.1783\n",
            "Epoch 154/200\n",
            "21/21 [==============================] - 0s 5ms/step - loss: 0.0838 - val_loss: 0.1756\n",
            "Epoch 155/200\n",
            "21/21 [==============================] - 0s 4ms/step - loss: 0.0894 - val_loss: 0.1794\n",
            "Epoch 156/200\n",
            "21/21 [==============================] - 0s 5ms/step - loss: 0.0879 - val_loss: 0.1776\n",
            "Epoch 157/200\n",
            "21/21 [==============================] - 0s 5ms/step - loss: 0.0845 - val_loss: 0.1783\n",
            "Epoch 158/200\n",
            "21/21 [==============================] - 0s 4ms/step - loss: 0.0868 - val_loss: 0.1791\n",
            "Epoch 159/200\n",
            "21/21 [==============================] - 0s 4ms/step - loss: 0.0898 - val_loss: 0.1768\n",
            "Epoch 160/200\n",
            "21/21 [==============================] - 0s 5ms/step - loss: 0.0882 - val_loss: 0.1752\n",
            "Epoch 161/200\n",
            "21/21 [==============================] - 0s 4ms/step - loss: 0.0869 - val_loss: 0.1737\n",
            "Epoch 162/200\n",
            "21/21 [==============================] - 0s 4ms/step - loss: 0.0874 - val_loss: 0.1783\n",
            "Epoch 163/200\n",
            "21/21 [==============================] - 0s 5ms/step - loss: 0.0865 - val_loss: 0.1800\n",
            "Epoch 164/200\n",
            "21/21 [==============================] - 0s 5ms/step - loss: 0.0845 - val_loss: 0.1780\n",
            "Epoch 165/200\n",
            "21/21 [==============================] - 0s 6ms/step - loss: 0.0844 - val_loss: 0.1749\n",
            "Epoch 166/200\n",
            "21/21 [==============================] - 0s 5ms/step - loss: 0.0874 - val_loss: 0.1775\n",
            "Epoch 167/200\n",
            "21/21 [==============================] - 0s 4ms/step - loss: 0.0891 - val_loss: 0.1764\n",
            "Epoch 168/200\n",
            "21/21 [==============================] - 0s 5ms/step - loss: 0.0854 - val_loss: 0.1743\n",
            "Epoch 169/200\n",
            "21/21 [==============================] - 0s 6ms/step - loss: 0.0868 - val_loss: 0.1771\n",
            "Epoch 170/200\n",
            "21/21 [==============================] - 0s 5ms/step - loss: 0.0885 - val_loss: 0.1778\n",
            "Epoch 171/200\n",
            "21/21 [==============================] - 0s 5ms/step - loss: 0.0892 - val_loss: 0.1790\n",
            "Epoch 172/200\n",
            "21/21 [==============================] - 0s 6ms/step - loss: 0.0882 - val_loss: 0.1756\n",
            "Epoch 173/200\n",
            "21/21 [==============================] - 0s 5ms/step - loss: 0.0864 - val_loss: 0.1769\n",
            "Epoch 174/200\n",
            "21/21 [==============================] - 0s 5ms/step - loss: 0.0821 - val_loss: 0.1763\n",
            "Epoch 175/200\n",
            "21/21 [==============================] - 0s 5ms/step - loss: 0.0858 - val_loss: 0.1747\n",
            "Epoch 176/200\n",
            "21/21 [==============================] - 0s 4ms/step - loss: 0.0866 - val_loss: 0.1828\n",
            "Epoch 177/200\n",
            "21/21 [==============================] - 0s 5ms/step - loss: 0.0841 - val_loss: 0.1758\n",
            "Epoch 178/200\n",
            "21/21 [==============================] - 0s 5ms/step - loss: 0.0871 - val_loss: 0.1772\n",
            "Epoch 179/200\n",
            "21/21 [==============================] - 0s 4ms/step - loss: 0.0879 - val_loss: 0.1729\n",
            "Epoch 180/200\n",
            "21/21 [==============================] - 0s 5ms/step - loss: 0.0861 - val_loss: 0.1743\n",
            "Epoch 181/200\n",
            "21/21 [==============================] - 0s 5ms/step - loss: 0.0882 - val_loss: 0.1789\n",
            "Epoch 182/200\n",
            "21/21 [==============================] - 0s 4ms/step - loss: 0.0833 - val_loss: 0.1851\n",
            "Epoch 183/200\n",
            "21/21 [==============================] - 0s 5ms/step - loss: 0.0826 - val_loss: 0.1843\n",
            "Epoch 184/200\n",
            "21/21 [==============================] - 0s 5ms/step - loss: 0.0896 - val_loss: 0.1804\n",
            "Epoch 185/200\n",
            "21/21 [==============================] - 0s 4ms/step - loss: 0.0871 - val_loss: 0.1720\n",
            "Epoch 186/200\n",
            "21/21 [==============================] - 0s 4ms/step - loss: 0.0819 - val_loss: 0.1733\n",
            "Epoch 187/200\n",
            "21/21 [==============================] - 0s 5ms/step - loss: 0.0818 - val_loss: 0.1829\n",
            "Epoch 188/200\n",
            "21/21 [==============================] - 0s 4ms/step - loss: 0.0873 - val_loss: 0.1841\n",
            "Epoch 189/200\n",
            "21/21 [==============================] - 0s 4ms/step - loss: 0.0835 - val_loss: 0.1769\n",
            "Epoch 190/200\n",
            "21/21 [==============================] - 0s 5ms/step - loss: 0.0869 - val_loss: 0.1736\n",
            "Epoch 191/200\n",
            "21/21 [==============================] - 0s 5ms/step - loss: 0.0863 - val_loss: 0.1792\n",
            "Epoch 192/200\n",
            "21/21 [==============================] - 0s 5ms/step - loss: 0.0869 - val_loss: 0.1783\n",
            "Epoch 193/200\n",
            "21/21 [==============================] - 0s 5ms/step - loss: 0.0860 - val_loss: 0.1826\n",
            "Epoch 194/200\n",
            "21/21 [==============================] - 0s 4ms/step - loss: 0.0838 - val_loss: 0.1764\n",
            "Epoch 195/200\n",
            "21/21 [==============================] - 0s 5ms/step - loss: 0.0853 - val_loss: 0.1707\n",
            "Epoch 196/200\n",
            "21/21 [==============================] - 0s 4ms/step - loss: 0.0874 - val_loss: 0.1790\n",
            "Epoch 197/200\n",
            "21/21 [==============================] - 0s 4ms/step - loss: 0.0863 - val_loss: 0.1775\n",
            "Epoch 198/200\n",
            "21/21 [==============================] - 0s 5ms/step - loss: 0.0846 - val_loss: 0.1754\n",
            "Epoch 199/200\n",
            "21/21 [==============================] - 0s 5ms/step - loss: 0.0953 - val_loss: 0.1740\n",
            "Epoch 200/200\n",
            "21/21 [==============================] - 0s 5ms/step - loss: 0.0893 - val_loss: 0.1833\n"
          ],
          "name": "stdout"
        }
      ]
    },
    {
      "cell_type": "code",
      "metadata": {
        "colab": {
          "base_uri": "https://localhost:8080/"
        },
        "id": "MPaqQ7lFMgzX",
        "outputId": "79e7d222-3092-4d74-f1ca-bc1f9dcc5d94"
      },
      "source": [
        "#from sklearn.preprocessing import MinMaxScaler# make prediction\n",
        "testPredict = model.predict(testX)\n",
        "testPredict = sc.inverse_transform(testPredict)\n",
        "testY = sc.inverse_transform(testY)\n",
        "testScore = math.sqrt(mean_squared_error(testY, testPredict))\n",
        "print('Train Score: %.2f RMSE' % testScore)"
      ],
      "execution_count": null,
      "outputs": [
        {
          "output_type": "stream",
          "text": [
            "Train Score: 406.51 RMSE\n"
          ],
          "name": "stdout"
        }
      ]
    },
    {
      "cell_type": "code",
      "metadata": {
        "colab": {
          "base_uri": "https://localhost:8080/"
        },
        "id": "487DEryE7h9d",
        "outputId": "22487eb4-ee39-4213-fde5-aebabdbf6cd0"
      },
      "source": [
        "print(\"\\nMAE of GRU:\", mean_absolute_error(testY, testPredict))\n"
      ],
      "execution_count": 58,
      "outputs": [
        {
          "output_type": "stream",
          "text": [
            "\n",
            "MAE of GRU: 270.44206077911304\n"
          ],
          "name": "stdout"
        }
      ]
    },
    {
      "cell_type": "code",
      "metadata": {
        "id": "VoKknrnjeLbG",
        "colab": {
          "base_uri": "https://localhost:8080/",
          "height": 283
        },
        "outputId": "caf23162-aa40-4faa-dfeb-3300d17b1a8f"
      },
      "source": [
        "plt.plot(history.history['loss'])\n",
        "plt.plot(history.history['val_loss'])\n",
        "plt.ylim(0.0, 1)\n",
        "plt.ylabel('loss')\n",
        "plt.xlabel('epoch')\n",
        "plt.legend(['train', 'val'], loc='upper left')\n",
        "plt.show()"
      ],
      "execution_count": null,
      "outputs": [
        {
          "output_type": "display_data",
          "data": {
            "image/png": "[encoded data removed]",
            "text/plain": [
              "<Figure size 432x288 with 1 Axes>"
            ]
          },
          "metadata": {
            "tags": [],
            "needs_background": "light"
          }
        }
      ]
    },
    {
      "cell_type": "code",
      "metadata": {
        "colab": {
          "base_uri": "https://localhost:8080/"
        },
        "id": "J-WfaJdBNaKc",
        "outputId": "bae15189-e1f1-4663-a216-4bdaba2a74eb"
      },
      "source": [
        "lastX = testing_set_scaled[-1]\n",
        "\n",
        "lastX = np.reshape(lastX, (1, 1, 1))\n",
        "lastY = model.predict(lastX)\n",
        "lastY = sc.inverse_transform(lastY)\n",
        "lastY"
      ],
      "execution_count": null,
      "outputs": [
        {
          "output_type": "execute_result",
          "data": {
            "text/plain": [
              "array([[18471.03]], dtype=float32)"
            ]
          },
          "metadata": {
            "tags": []
          },
          "execution_count": 48
        }
      ]
    },
    {
      "cell_type": "code",
      "metadata": {
        "colab": {
          "base_uri": "https://localhost:8080/",
          "height": 446
        },
        "id": "nQianEzYO18I",
        "outputId": "ed87f24c-4452-43a6-ddc4-925eae552f61"
      },
      "source": [
        "import matplotlib.pyplot as plt\n",
        "import matplotlib.dates as mdates\n",
        "import numpy as np\n",
        "import datetime as dt\n",
        "\n",
        "now = dt.datetime.now()\n",
        "then = now - dt.timedelta(days=testX.shape[0])\n",
        "days = mdates.drange(then,now,dt.timedelta(days=1))\n",
        "x = days\n",
        "\n",
        "fig = plt.figure(facecolor='white', figsize=(20, 10))\n",
        "ax = fig.add_subplot(111)\n",
        "plt.gca().xaxis.set_major_formatter(mdates.DateFormatter('%Y-%m-%d'))\n",
        "plt.gca().xaxis.set_major_locator(mdates.DayLocator(interval=7))\n",
        "plt.plot(x,testPredict,label='Pred')\n",
        "plt.plot(x,testY,label='True')\n",
        "ax.legend()\n",
        "plt.xlabel('Data', fontsize=12)\n",
        "plt.ylabel('Price', fontsize=12)\n",
        "plt.show()"
      ],
      "execution_count": null,
      "outputs": [
        {
          "output_type": "display_data",
          "data": {
            "image/png": "[encoded data removed]",
            "text/plain": [
              "<Figure size 1440x720 with 1 Axes>"
            ]
          },
          "metadata": {
            "tags": []
          }
        }
      ]
    },
    {
      "cell_type": "code",
      "metadata": {
        "colab": {
          "base_uri": "https://localhost:8080/"
        },
        "id": "3G9UR-3USJq6",
        "outputId": "66bf283b-16b8-46b4-b5c0-ce4f5636c384"
      },
      "source": [
        "testX.shape"
      ],
      "execution_count": null,
      "outputs": [
        {
          "output_type": "execute_result",
          "data": {
            "text/plain": [
              "(124, 1, 1)"
            ]
          },
          "metadata": {
            "tags": []
          },
          "execution_count": 51
        }
      ]
    },
    {
      "cell_type": "markdown",
      "metadata": {
        "id": "AVcJrQ8z8CFT"
      },
      "source": [
        "# **LSTM Model**"
      ]
    },
    {
      "cell_type": "code",
      "metadata": {
        "id": "J3Q3hsMp82oA"
      },
      "source": [
        "import math\n",
        "import matplotlib.pyplot as plt\n",
        "\n",
        "import pandas as pd\n",
        "import numpy as np\n",
        "\n",
        "from sklearn.preprocessing import MinMaxScaler\n",
        "from sklearn.metrics import mean_squared_error\n",
        "from sklearn.metrics import mean_absolute_error\n",
        "from sklearn.model_selection import train_test_split\n",
        "\n",
        "\n",
        "import tensorflow as tf\n",
        "import tensorflow.keras as tfk\n",
        "import tensorflow.keras.layers as tfkl\n",
        "from tensorflow.keras.models import Sequential\n"
      ],
      "execution_count": 67,
      "outputs": []
    },
    {
      "cell_type": "code",
      "metadata": {
        "id": "S-5Eu-ev8UWp"
      },
      "source": [
        "df=pd.read_csv(\"data.csv\")\n",
        "## split train test at 2020-7-31\n",
        "df_close = df.iloc[:,2:3]\n",
        "train = df.iloc[:2652, 2:3].values\n",
        "test = df.iloc[2652:, 2:3].values\n",
        "## scale 0 to 1\n",
        "scale = MinMaxScaler(feature_range = (0, 1))\n",
        "train = scale.fit_transform(train)"
      ],
      "execution_count": 63,
      "outputs": []
    },
    {
      "cell_type": "code",
      "metadata": {
        "id": "sfJen7js8hWr"
      },
      "source": [
        "X_train = []\n",
        "y_train = []\n",
        "for i in range(60, 2652):\n",
        "    X_train.append(train[i-60:i, 0])\n",
        "    y_train.append(train[i, 0])\n",
        "\n",
        "X_train, y_train = np.array(X_train), np.array(y_train)\n",
        "X_train = np.reshape(X_train, (X_train.shape[0], X_train.shape[1], 1))\n"
      ],
      "execution_count": 64,
      "outputs": []
    },
    {
      "cell_type": "code",
      "metadata": {
        "colab": {
          "base_uri": "https://localhost:8080/"
        },
        "id": "FUFeIN-98ink",
        "outputId": "c0d3bd25-8086-43d2-b2df-c95243563c74"
      },
      "source": [
        "# Test\n",
        "## add a window to test set\n",
        "test_window = df_close[len(df_close) - len(test)-60:].values\n",
        "\n",
        "## normalize test set\n",
        "test_window = scale.fit_transform(test_window)\n",
        "\n",
        "X_test = []\n",
        "for i in range(60,len(test_window)):\n",
        "    X_test.append(test_window[i-60:i,0])\n",
        "\n",
        "X_test = np.array(X_test)\n",
        "X_test = np.reshape(X_test, (X_test.shape[0], X_test.shape[1], 1))\n",
        "\n",
        "print(X_test.shape)"
      ],
      "execution_count": 65,
      "outputs": [
        {
          "output_type": "stream",
          "text": [
            "(126, 60, 1)\n"
          ],
          "name": "stdout"
        }
      ]
    },
    {
      "cell_type": "code",
      "metadata": {
        "colab": {
          "base_uri": "https://localhost:8080/"
        },
        "id": "JHz7TM5v8j_N",
        "outputId": "72651f72-f90e-49eb-baf8-215b4864e185"
      },
      "source": [
        "lstm = Sequential()\n",
        "lstm.add(tfkl.LSTM(128, input_shape=(X_train.shape[1], 1)))\n",
        "lstm.add(tfkl.Dense(1,activation = \"sigmoid\"))\n",
        "lstm.compile(loss = 'mean_squared_error',optimizer = tfk.optimizers.Adam(lr=0.001, decay=1e-6))\n",
        "results = lstm.fit(X_train, y_train, epochs = 30, batch_size = 32)"
      ],
      "execution_count": 68,
      "outputs": [
        {
          "output_type": "stream",
          "text": [
            "Epoch 1/30\n",
            "81/81 [==============================] - 0s 5ms/step - loss: 0.0296\n",
            "Epoch 2/30\n",
            "81/81 [==============================] - 0s 5ms/step - loss: 0.0021\n",
            "Epoch 3/30\n",
            "81/81 [==============================] - 0s 4ms/step - loss: 0.0014\n",
            "Epoch 4/30\n",
            "81/81 [==============================] - 0s 4ms/step - loss: 0.0012\n",
            "Epoch 5/30\n",
            "81/81 [==============================] - 0s 4ms/step - loss: 9.7392e-04\n",
            "Epoch 6/30\n",
            "81/81 [==============================] - 0s 4ms/step - loss: 8.4307e-04\n",
            "Epoch 7/30\n",
            "81/81 [==============================] - 0s 4ms/step - loss: 8.4727e-04\n",
            "Epoch 8/30\n",
            "81/81 [==============================] - 0s 4ms/step - loss: 9.3346e-04\n",
            "Epoch 9/30\n",
            "81/81 [==============================] - 0s 4ms/step - loss: 6.7587e-04\n",
            "Epoch 10/30\n",
            "81/81 [==============================] - 0s 4ms/step - loss: 6.5438e-04\n",
            "Epoch 11/30\n",
            "81/81 [==============================] - 0s 5ms/step - loss: 6.1687e-04\n",
            "Epoch 12/30\n",
            "81/81 [==============================] - 0s 5ms/step - loss: 5.7402e-04\n",
            "Epoch 13/30\n",
            "81/81 [==============================] - 0s 5ms/step - loss: 6.9188e-04\n",
            "Epoch 14/30\n",
            "81/81 [==============================] - 0s 5ms/step - loss: 6.9959e-04\n",
            "Epoch 15/30\n",
            "81/81 [==============================] - 0s 5ms/step - loss: 5.3612e-04\n",
            "Epoch 16/30\n",
            "81/81 [==============================] - 0s 4ms/step - loss: 5.2639e-04\n",
            "Epoch 17/30\n",
            "81/81 [==============================] - 0s 4ms/step - loss: 5.4784e-04\n",
            "Epoch 18/30\n",
            "81/81 [==============================] - 0s 4ms/step - loss: 4.4857e-04\n",
            "Epoch 19/30\n",
            "81/81 [==============================] - 0s 4ms/step - loss: 4.5058e-04\n",
            "Epoch 20/30\n",
            "81/81 [==============================] - 0s 5ms/step - loss: 4.8786e-04\n",
            "Epoch 21/30\n",
            "81/81 [==============================] - 0s 5ms/step - loss: 4.3931e-04\n",
            "Epoch 22/30\n",
            "81/81 [==============================] - 0s 4ms/step - loss: 3.8738e-04\n",
            "Epoch 23/30\n",
            "81/81 [==============================] - 0s 4ms/step - loss: 4.0298e-04\n",
            "Epoch 24/30\n",
            "81/81 [==============================] - 0s 4ms/step - loss: 3.8459e-04\n",
            "Epoch 25/30\n",
            "81/81 [==============================] - 0s 4ms/step - loss: 3.8870e-04\n",
            "Epoch 26/30\n",
            "81/81 [==============================] - 0s 4ms/step - loss: 4.5341e-04\n",
            "Epoch 27/30\n",
            "81/81 [==============================] - 0s 4ms/step - loss: 3.7649e-04\n",
            "Epoch 28/30\n",
            "81/81 [==============================] - 0s 4ms/step - loss: 3.9234e-04\n",
            "Epoch 29/30\n",
            "81/81 [==============================] - 0s 5ms/step - loss: 3.5867e-04\n",
            "Epoch 30/30\n",
            "81/81 [==============================] - 0s 4ms/step - loss: 3.5118e-04\n"
          ],
          "name": "stdout"
        }
      ]
    },
    {
      "cell_type": "code",
      "metadata": {
        "colab": {
          "base_uri": "https://localhost:8080/"
        },
        "id": "rw0RxEjY8l2T",
        "outputId": "ff8c42c3-4e99-4ca4-cd56-42a3ca8f12df"
      },
      "source": [
        "results.history[\"loss\"][29]"
      ],
      "execution_count": 69,
      "outputs": [
        {
          "output_type": "execute_result",
          "data": {
            "text/plain": [
              "0.0003511750546749681"
            ]
          },
          "metadata": {
            "tags": []
          },
          "execution_count": 69
        }
      ]
    },
    {
      "cell_type": "code",
      "metadata": {
        "colab": {
          "base_uri": "https://localhost:8080/",
          "height": 452
        },
        "id": "sTXPPCkb8ncI",
        "outputId": "91338009-a698-4053-b823-bd32f4aed454"
      },
      "source": [
        "plt.plot(results.history[\"loss\"])\n",
        "plt.scatter(29,results.history[\"loss\"][29],color = 'red')\n",
        "plt.text(29,results.history[\"loss\"][29],results.history[\"loss\"][29],verticalalignment='bottom',horizontalalignment='center')\n",
        "plt.legend(labels=[\"loss_mse\"])"
      ],
      "execution_count": 70,
      "outputs": [
        {
          "output_type": "execute_result",
          "data": {
            "text/plain": [
              "<matplotlib.legend.Legend at 0x7f152cd87828>"
            ]
          },
          "metadata": {
            "tags": []
          },
          "execution_count": 70
        },
        {
          "output_type": "display_data",
          "data": {
            "image/png": "[encoded data removed]",
            "text/plain": [
              "<Figure size 1440x720 with 1 Axes>"
            ]
          },
          "metadata": {
            "tags": [],
            "needs_background": "light"
          }
        }
      ]
    },
    {
      "cell_type": "code",
      "metadata": {
        "id": "yzqlycK98qWw"
      },
      "source": [
        "pred_price = lstm.predict(X_test)\n",
        "pred_price = scale.inverse_transform(pred_price)"
      ],
      "execution_count": 71,
      "outputs": []
    },
    {
      "cell_type": "code",
      "metadata": {
        "id": "ooWGFgcS8rca"
      },
      "source": [
        "date = df['date']\n",
        "date = date[2652:]"
      ],
      "execution_count": 72,
      "outputs": []
    },
    {
      "cell_type": "code",
      "metadata": {
        "colab": {
          "base_uri": "https://localhost:8080/",
          "height": 461
        },
        "id": "86OJUhuQ8sgG",
        "outputId": "8ce826e5-13f1-4d2e-a521-1af893e11e4f"
      },
      "source": [
        "\n",
        "plt.plot(date,test,color = 'red',label = 'real price')\n",
        "plt.plot(date,pred_price,label = 'predicted price')\n",
        "plt.xticks(np.arange(0,126,60))\n",
        "plt.rcParams[\"figure.figsize\"] = [9,7]\n",
        "plt.title(\"BTC price prediction\")\n",
        "plt.xlabel('time')\n",
        "plt.ylabel('price')\n",
        "plt.legend()\n",
        "plt.show()"
      ],
      "execution_count": 73,
      "outputs": [
        {
          "output_type": "display_data",
          "data": {
            "image/png": "[encoded data removed]",
            "text/plain": [
              "<Figure size 1440x720 with 1 Axes>"
            ]
          },
          "metadata": {
            "tags": [],
            "needs_background": "light"
          }
        }
      ]
    },
    {
      "cell_type": "code",
      "metadata": {
        "id": "64mlMa4H8t8c"
      },
      "source": [
        "### predict without test data\n",
        "test_window = df_close[len(df_close) - len(test)-60:].values\n",
        "\n",
        "## normalize test set\n",
        "test_window = scale.fit_transform(test_window)\n",
        "len(test_window[:60])\n",
        "sequence = test_window[:60]\n",
        "for i in range(60,len(test_window)):\n",
        "    X_test = []\n",
        "    X_test.append(sequence[i-60:i,0])\n",
        "    X_test = np.array(X_test)\n",
        "    X_test = np.reshape(X_test, (X_test.shape[0], X_test.shape[1], 1))\n",
        "    \n",
        "    pred_price = lstm.predict(X_test)\n",
        "    shape = len(sequence)\n",
        "    sequence = np.reshape(sequence,(shape,))\n",
        "    pred_price = np.reshape(pred_price,(1,))\n",
        "    sequence = np.append(sequence, pred_price)\n",
        "    shape = len(sequence)\n",
        "    sequence = np.reshape(sequence,(shape,1))\n",
        "sequence = sequence[60:]"
      ],
      "execution_count": 74,
      "outputs": []
    },
    {
      "cell_type": "code",
      "metadata": {
        "id": "irGY6tAw8vXo"
      },
      "source": [
        "sequence = scale.inverse_transform(sequence)"
      ],
      "execution_count": 75,
      "outputs": []
    },
    {
      "cell_type": "code",
      "metadata": {
        "colab": {
          "base_uri": "https://localhost:8080/",
          "height": 484
        },
        "id": "BnfKScTa8whu",
        "outputId": "efabed4f-a961-4635-e4e0-e059fb4ea1ca"
      },
      "source": [
        "plt.plot(date,test,color = 'red',label = 'real price')\n",
        "plt.plot(date,sequence,label = 'predicted price')\n",
        "plt.xticks(np.arange(0,126,60))\n",
        "plt.rcParams[\"figure.figsize\"] = [9,7]\n",
        "plt.title(\"BTC price prediction\")\n",
        "plt.xlabel('time')\n",
        "plt.ylabel('price')\n",
        "plt.legend()\n",
        "plt.show()"
      ],
      "execution_count": 76,
      "outputs": [
        {
          "output_type": "display_data",
          "data": {
            "image/png": "[encoded data removed]",
            "text/plain": [
              "<Figure size 648x504 with 1 Axes>"
            ]
          },
          "metadata": {
            "tags": [],
            "needs_background": "light"
          }
        }
      ]
    }
  ]
}